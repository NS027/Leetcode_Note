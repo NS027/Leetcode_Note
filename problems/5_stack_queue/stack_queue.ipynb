{
 "cells": [
  {
   "cell_type": "markdown",
   "metadata": {},
   "source": [
    "# Stack & Queue\n",
    "<hr>"
   ]
  },
  {
   "cell_type": "markdown",
   "metadata": {},
   "source": [
    "## 基础知识\n",
    "\n",
    "Queue: FIFO\n",
    "\n",
    "Stack: FILO"
   ]
  },
  {
   "cell_type": "markdown",
   "metadata": {},
   "source": [
    "### 232. Implement Queue using Stack \n",
    "Push, Pop, Peek, Empty核心就是用两个stack，一个作为`in stack`, 一个作为`out stack`。从而实现queue的目的。"
   ]
  },
  {
   "cell_type": "code",
   "execution_count": 1,
   "metadata": {},
   "outputs": [
    {
     "name": "stdout",
     "output_type": "stream",
     "text": [
      "1\n",
      "2\n",
      "2\n",
      "3\n",
      "True\n",
      "None\n",
      "True\n",
      "4\n",
      "4\n",
      "True\n",
      "None\n",
      "True\n"
     ]
    }
   ],
   "source": [
    "class MyQueue:\n",
    "\n",
    "    def __init__(self):\n",
    "        '''\n",
    "        in for push, out for pop\n",
    "        '''\n",
    "        self.stack_in = []\n",
    "        self.stack_out = []\n",
    "        \n",
    "\n",
    "    def push(self, x: int) -> None:\n",
    "        self.stack_in.append(x)\n",
    "        \n",
    "\n",
    "    def pop(self) -> int:\n",
    "        if self.empty():\n",
    "            return None\n",
    "        \n",
    "        if self.stack_out:\n",
    "            return self.stack_out.pop()\n",
    "        else:\n",
    "            for i in range(len(self.stack_in)):\n",
    "                self.stack_out.append(self.stack_in.pop())\n",
    "            return self.stack_out.pop()\n",
    "\n",
    "        \n",
    "\n",
    "    def peek(self) -> int:\n",
    "        '''\n",
    "        Get the front element\n",
    "        '''\n",
    "        if self.empty():\n",
    "            return None\n",
    "        \n",
    "        if not self.stack_out:\n",
    "            while self.stack_in:\n",
    "                self.stack_out.append(self.stack_in.pop())\n",
    "        \n",
    "        return self.stack_out[-1]  #return the front element without poping\n",
    "        \n",
    "\n",
    "    def empty(self) -> bool:\n",
    "        return not (self.stack_in or self.stack_out)\n",
    "    \n",
    "# Test the code\n",
    "if __name__ == '__main__':\n",
    "    q = MyQueue()\n",
    "    q.push(1)\n",
    "    q.push(2)\n",
    "    q.push(3)\n",
    "    print(q.pop())\n",
    "    print(q.peek())\n",
    "    print(q.pop())\n",
    "    print(q.pop())\n",
    "    print(q.empty())\n",
    "    print(q.pop())\n",
    "    print(q.empty())\n",
    "    q.push(4)\n",
    "    print(q.peek ())\n",
    "    print(q.pop())\n",
    "    print(q.empty())\n",
    "    print(q.pop())\n",
    "    print(q.empty())            "
   ]
  }
 ],
 "metadata": {
  "kernelspec": {
   "display_name": "Python 3",
   "language": "python",
   "name": "python3"
  },
  "language_info": {
   "codemirror_mode": {
    "name": "ipython",
    "version": 3
   },
   "file_extension": ".py",
   "mimetype": "text/x-python",
   "name": "python",
   "nbconvert_exporter": "python",
   "pygments_lexer": "ipython3",
   "version": "3.11.11"
  }
 },
 "nbformat": 4,
 "nbformat_minor": 2
}
