{
 "cells": [
  {
   "cell_type": "markdown",
   "metadata": {},
   "source": [
    "# Stack & Queue\n",
    "<hr>"
   ]
  },
  {
   "cell_type": "markdown",
   "metadata": {},
   "source": [
    "## 基础知识\n",
    "\n",
    "Queue: FIFO\n",
    "\n",
    "Stack: FILO"
   ]
  },
  {
   "cell_type": "markdown",
   "metadata": {},
   "source": [
    "### 232. Implement Queue using Stack \n",
    "Push, Pop, Peek, Empty核心就是用两个stack，一个作为`in stack`, 一个作为`out stack`。从而实现queue的目的。"
   ]
  },
  {
   "cell_type": "code",
   "execution_count": 1,
   "metadata": {},
   "outputs": [
    {
     "name": "stdout",
     "output_type": "stream",
     "text": [
      "1\n",
      "2\n",
      "2\n",
      "3\n",
      "True\n",
      "None\n",
      "True\n",
      "4\n",
      "4\n",
      "True\n",
      "None\n",
      "True\n"
     ]
    }
   ],
   "source": [
    "class MyQueue:\n",
    "\n",
    "    def __init__(self):\n",
    "        '''\n",
    "        in for push, out for pop\n",
    "        '''\n",
    "        self.stack_in = []\n",
    "        self.stack_out = []\n",
    "        \n",
    "\n",
    "    def push(self, x: int) -> None:\n",
    "        self.stack_in.append(x)\n",
    "        \n",
    "\n",
    "    def pop(self) -> int:\n",
    "        if self.empty():\n",
    "            return None\n",
    "        \n",
    "        if self.stack_out:\n",
    "            return self.stack_out.pop()\n",
    "        else:\n",
    "            for i in range(len(self.stack_in)):\n",
    "                self.stack_out.append(self.stack_in.pop())\n",
    "            return self.stack_out.pop()\n",
    "\n",
    "        \n",
    "\n",
    "    def peek(self) -> int:\n",
    "        '''\n",
    "        Get the front element\n",
    "        '''\n",
    "        if self.empty():\n",
    "            return None\n",
    "        \n",
    "        if not self.stack_out:\n",
    "            while self.stack_in:\n",
    "                self.stack_out.append(self.stack_in.pop())\n",
    "        \n",
    "        return self.stack_out[-1]  #return the front element without poping\n",
    "        \n",
    "\n",
    "    def empty(self) -> bool:\n",
    "        return not (self.stack_in or self.stack_out)\n",
    "    \n",
    "# Test the code\n",
    "if __name__ == '__main__':\n",
    "    q = MyQueue()\n",
    "    q.push(1)\n",
    "    q.push(2)\n",
    "    q.push(3)\n",
    "    print(q.pop())\n",
    "    print(q.peek())\n",
    "    print(q.pop())\n",
    "    print(q.pop())\n",
    "    print(q.empty())\n",
    "    print(q.pop())\n",
    "    print(q.empty())\n",
    "    q.push(4)\n",
    "    print(q.peek ())\n",
    "    print(q.pop())\n",
    "    print(q.empty())\n",
    "    print(q.pop())\n",
    "    print(q.empty())            "
   ]
  },
  {
   "cell_type": "markdown",
   "metadata": {},
   "source": [
    "### 225 Implementing Stack using Queue\n",
    "\n",
    "用一个Queue来实现Stack。\n",
    "\n",
    "Pop：像贪食蛇一样，把前面的元素都弹出来，弹到最后一个（弹出 size -1 个元素），出来的就是最后一个元素了。"
   ]
  },
  {
   "cell_type": "code",
   "execution_count": 1,
   "metadata": {},
   "outputs": [
    {
     "name": "stdout",
     "output_type": "stream",
     "text": [
      "3\n",
      "2\n",
      "2\n",
      "1\n",
      "True\n",
      "None\n",
      "True\n",
      "4\n",
      "4\n",
      "True\n",
      "None\n",
      "True\n"
     ]
    }
   ],
   "source": [
    "from collections import deque\n",
    "\n",
    "class MyStack:\n",
    "\n",
    "    def __init__(self):\n",
    "        self.queue = deque()\n",
    "        \n",
    "\n",
    "    def push(self, x: int) -> None:\n",
    "        self.queue.append(x)\n",
    "\n",
    "        # Roatate the queue to put the new element at the front\n",
    "        for _ in range(len(self.queue) - 1):\n",
    "            self.queue.append(self.queue.popleft())\n",
    "        \n",
    "\n",
    "    def pop(self) -> int:\n",
    "        return self.queue.popleft() if self.queue else None\n",
    "        \n",
    "\n",
    "    def top(self) -> int:\n",
    "        return self.queue[0] if self.queue else None\n",
    "\n",
    "        \n",
    "\n",
    "    def empty(self) -> bool:\n",
    "        return not self.queue\n",
    "    \n",
    "# Test the code\n",
    "if __name__ == '__main__':\n",
    "    s = MyStack()\n",
    "    s.push(1)\n",
    "    s.push(2)\n",
    "    s.push(3)\n",
    "    print(s.pop())\n",
    "    print(s.top())\n",
    "    print(s.pop())\n",
    "    print(s.pop())\n",
    "    print(s.empty())\n",
    "    print(s.pop())\n",
    "    print(s.empty())\n",
    "    s.push(4)\n",
    "    print(s.top ())\n",
    "    print(s.pop())\n",
    "    print(s.empty())\n",
    "    print(s.pop())\n",
    "    print(s.empty())"
   ]
  },
  {
   "cell_type": "markdown",
   "metadata": {},
   "source": [
    "### 20. Valid Parenthesis\n",
    "Stack经典应用。\n",
    "\n",
    "反向思维，其实就是三个情况不符合\n",
    "- 左括号多了：\n",
    "  遇到左括号，就把右括号放到stack里面。后面的就进行‘消消乐’。 \n",
    "- 右括号多了：\n",
    "  还没有traverse完，stack为空了。\n",
    "- 中间两个不匹配：\n",
    "  直接就会不匹配的括号了。"
   ]
  },
  {
   "cell_type": "code",
   "execution_count": 2,
   "metadata": {},
   "outputs": [
    {
     "name": "stdout",
     "output_type": "stream",
     "text": [
      "True\n",
      "True\n",
      "False\n",
      "False\n",
      "True\n",
      "False\n",
      "False\n"
     ]
    }
   ],
   "source": [
    "class Solution:\n",
    "    def isValid(self, s: str) -> bool:\n",
    "        stack = []\n",
    "\n",
    "        for item in s:\n",
    "            if item == '(':\n",
    "                stack.append(')')\n",
    "            elif item == '[':\n",
    "                stack.append(']')\n",
    "            elif item == '{':\n",
    "                stack.append('}')\n",
    "            elif not stack or stack[-1] != item:\n",
    "                return False\n",
    "            else:\n",
    "                stack.pop()\n",
    "\n",
    "        return True if not stack else False \n",
    "    \n",
    "# Test the code\n",
    "if __name__ == '__main__':\n",
    "    s = Solution()\n",
    "    print(s.isValid('()'))\n",
    "    print(s.isValid('()[]{}'))\n",
    "    print(s.isValid('(]'))\n",
    "    print(s.isValid('([)]'))\n",
    "    print(s.isValid('{[]}'))\n",
    "    print(s.isValid('['))\n",
    "    print(s.isValid(']'))\n"
   ]
  },
  {
   "cell_type": "markdown",
   "metadata": {},
   "source": [
    "### 1047. Removing All Adjacent Duplicates In String\n",
    "\n",
    "和上一题一样，还是用stack进行‘消消乐’。\n",
    "\n",
    "`stack[-1]`是指stack最上面（top）的那个element"
   ]
  },
  {
   "cell_type": "code",
   "execution_count": null,
   "metadata": {},
   "outputs": [
    {
     "name": "stdout",
     "output_type": "stream",
     "text": [
      "ca\n",
      "\n",
      "x\n"
     ]
    }
   ],
   "source": [
    "class Solution:\n",
    "    def removeDuplicates(self, S: str) -> str:\n",
    "        stack = []\n",
    "\n",
    "        for item in S:\n",
    "            if stack and stack[-1] == item:\n",
    "                stack.pop()\n",
    "            else:\n",
    "                stack.append(item)\n",
    "\n",
    "        return ''.join(stack)\n",
    "    \n",
    "# Test the code\n",
    "if __name__ == '__main__':\n",
    "    s = Solution()\n",
    "    print(s.removeDuplicates('abbaca'))\n",
    "    print(s.removeDuplicates('abba'))\n",
    "    print(s.removeDuplicates('abbaxyzzy'))"
   ]
  },
  {
   "cell_type": "markdown",
   "metadata": {},
   "source": [
    "### 150. Evaluate Reverse Polish Notation\n",
    "\n",
    "用stack这个数据结构，来做二叉树后序遍历的。(左右中)\n",
    "\n",
    "$(1+2) * (3+4)$\n",
    "\n",
    "        *\n",
    "       / \\\n",
    "      +   +\n",
    "     / \\ / \\\n",
    "    1  2 3  4\n",
    "\n",
    "在binary tree里面是： $12 + 34 + *$\n",
    "\n",
    "1. 遇到数字先放到stack里面\n",
    "   - 1 $\\rightarrow$ stack 1\n",
    "   - 2 $\\rightarrow$ stack 21\n",
    "2. 遇到运算符就取两个数字运算再放回到stack里面\n",
    "   - $1 + 2$\n",
    "   - $ = 3$\n",
    "   - $3 \\rightarrow$ stack \n",
    "3. 重复以上操作\n",
    "   - 3 $\\rightarrow$ stack 33\n",
    "   - 4 $\\rightarrow$ stack 433\n",
    "\n",
    "\n",
    "特别注意顺序\n",
    "```python\n",
    "        b = stack.pop()  # First operand\n",
    "        a = stack.pop()  # Second operand\n",
    "```"
   ]
  },
  {
   "cell_type": "code",
   "execution_count": 5,
   "metadata": {},
   "outputs": [
    {
     "name": "stdout",
     "output_type": "stream",
     "text": [
      "9\n",
      "6\n",
      "22\n"
     ]
    }
   ],
   "source": [
    "from typing import List\n",
    "\n",
    "class Solution:\n",
    "    def evalRPN(self, tokens: List[str]) -> int:\n",
    "        stack = []\n",
    "\n",
    "        for token in tokens:\n",
    "            if token in {'+', '-', '*', '/'}:\n",
    "                b = stack.pop()\n",
    "                a = stack.pop()\n",
    "\n",
    "                if token == '+':\n",
    "                    stack.append(a + b)\n",
    "                elif token == '-':\n",
    "                    stack.append(a - b)\n",
    "                elif token == '*':\n",
    "                    stack.append(a * b)\n",
    "                elif token == '/':\n",
    "                    stack.append(int(a / b))\n",
    "\n",
    "            else:\n",
    "                stack.append(int(token))\n",
    "\n",
    "        return stack.pop() \n",
    "    \n",
    "# Test the code\n",
    "if __name__ == '__main__':\n",
    "    s = Solution()\n",
    "    print(s.evalRPN([\"2\", \"1\", \"+\", \"3\", \"*\"]))\n",
    "    print(s.evalRPN([\"4\", \"13\", \"5\", \"/\", \"+\"]))\n",
    "    print(s.evalRPN([\"10\",\"6\",\"9\",\"3\",\"+\",\"-11\",\"*\",\"/\",\"*\",\"17\",\"+\",\"5\",\"+\"]))"
   ]
  },
  {
   "cell_type": "markdown",
   "metadata": {},
   "source": [
    "### 239. Sliding Window Maximum\n",
    "\n",
    "可以想象成一个stack，每次的滑动都是`pop`掉一个element，再`push`进来一个元素。这样每次都`getMax`来获取最大的元素。\n",
    "\n",
    "没有这种Data Structure. 要用**单调队列**。\n",
    "\n",
    "核心是：\n",
    "- 保证stack的第一个数是最大的。如果前面的值没有后面push进来的值大，直接把前面的值pop掉。\n",
    "- 因为是滑动窗口，所以会涉及到需要在原array里面需要pop的值跟stack口上的值一样的情况（此时就是该最大值到了滑动窗口的最右端），这时候就要pop出这个值。\n",
    "- 这时候就需要检查后面push进来的值和窗口的值的大小来决定哪个值可以留在stack口上。"
   ]
  },
  {
   "cell_type": "code",
   "execution_count": 2,
   "metadata": {},
   "outputs": [
    {
     "name": "stdout",
     "output_type": "stream",
     "text": [
      "[3, 3, 5, 5, 6, 7]\n",
      "[1]\n"
     ]
    }
   ],
   "source": [
    "from typing import List\n",
    "from collections import deque\n",
    "\n",
    "class MyQueue: #单调队列（从大到小\n",
    "    def __init__(self):\n",
    "        self.queue = deque() #这里需要使用deque实现单调队列，直接使用list会超时\n",
    "    \n",
    "    #每次弹出的时候，比较当前要弹出的数值是否等于队列出口元素的数值，如果相等则弹出。\n",
    "    #同时pop之前判断队列当前是否为空。\n",
    "    def pop(self, value):\n",
    "        if self.queue and value == self.queue[0]:\n",
    "            self.queue.popleft()#list.pop()时间复杂度为O(n),这里需要使用collections.deque()\n",
    "            \n",
    "    #如果push的数值大于入口元素的数值，那么就将队列后端的数值弹出，直到push的数值小于等于队列入口元素的数值为止。\n",
    "    #这样就保持了队列里的数值是单调从大到小的了。\n",
    "    def push(self, value):\n",
    "        while self.queue and value > self.queue[-1]:\n",
    "            self.queue.pop()\n",
    "        self.queue.append(value)\n",
    "        \n",
    "    #查询当前队列里的最大值 直接返回队列前端也就是front就可以了。\n",
    "    def front(self):\n",
    "        return self.queue[0]\n",
    "    \n",
    "class Solution:\n",
    "    def maxSlidingWindow(self, nums: List[int], k: int) -> List[int]:\n",
    "        que = MyQueue()\n",
    "        result = []\n",
    "        for i in range(k): #先将前k的元素放进队列\n",
    "            que.push(nums[i])\n",
    "        result.append(que.front()) #result 记录前k的元素的最大值\n",
    "        for i in range(k, len(nums)):\n",
    "            que.pop(nums[i - k]) #滑动窗口移除最前面元素\n",
    "            que.push(nums[i]) #滑动窗口前加入最后面的元素\n",
    "            result.append(que.front()) #记录对应的最大值\n",
    "        return result\n",
    "\n",
    "\n",
    "# Test the code\n",
    "if __name__ == '__main__':\n",
    "    s = Solution()\n",
    "    print(s.maxSlidingWindow([1,3,-1,-3,5,3,6,7], 3))\n",
    "    print(s.maxSlidingWindow([1], 1))"
   ]
  }
 ],
 "metadata": {
  "kernelspec": {
   "display_name": "Python 3",
   "language": "python",
   "name": "python3"
  },
  "language_info": {
   "codemirror_mode": {
    "name": "ipython",
    "version": 3
   },
   "file_extension": ".py",
   "mimetype": "text/x-python",
   "name": "python",
   "nbconvert_exporter": "python",
   "pygments_lexer": "ipython3",
   "version": "3.11.11"
  }
 },
 "nbformat": 4,
 "nbformat_minor": 2
}
