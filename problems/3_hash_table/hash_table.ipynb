{
 "cells": [
  {
   "cell_type": "markdown",
   "metadata": {},
   "source": [
    "# Hash Table\n",
    "<hr>"
   ]
  },
  {
   "cell_type": "markdown",
   "metadata": {},
   "source": [
    "## Definition\n",
    "一般来说就是根据关键码(**map keys**)来直接进行访问的数据结构。要使用**hash function**。数组就是一种hash table。\n",
    "\n",
    "当我们遇到了要**快速判断一个元素是否出现集合里**的时候，就要考虑哈希法。\n",
    "\n",
    "但是哈希法也是**牺牲了空间换取了时间**，因为我们要使用额外的数组，set或者是map来存放数据，才能实现快速的查找。\n",
    "\n",
    "### Hash function\n",
    "例如学生名字进行举例：\n",
    "\n",
    "`index = hashFunction(name)`\n",
    "\n",
    "`hashFuction = hashCode(name)%tableSize`\n",
    "\n",
    "如果两个不同的名字mod之后的值一样，就涉及到**hash collision**\n",
    "\n",
    "### Hash collision\n",
    "1. **Chaining 拉链法**<br>\n",
    "Store multiple values at the same index using a linked list, array, or other data structures. When a collision occurs, new values are added to the list at that index.\n",
    "2. **Open Addressing**\n",
    "- *Linear Probing:* Check the next index sequentially until an empty slot is found. (**tableSize > dataSize**)\n",
    "- *Quadratic Probing:* Use a quadratic function to find the next available slot (e.g., index + 1², index + 2², ...).\n",
    "- *Double Hashing:* Use a second hash function to determine the step size for resolving collisions.\n",
    "\n",
    "### Hash table structure\n",
    "In most cases, **maps (dictionaries)** are the most common implementation of hash tables in programming languages like **Python (dict), Java (HashMap), and JavaScript (Map)**.\n",
    "\n",
    "1. **array: Used for the base structure to store values at hashed indices.**\n",
    "- Most hash table implementations use an array as the underlying data structure to store values at computed indices. This allows for constant-time access ($O(1)$ on average) when resolving hash function outputs.\n",
    "\n",
    "2. **set: Used when only key existence needs to be checked.**\n",
    "- A set is typically used when a hash table only needs to store unique keys without associated values. Many programming languages implement sets using hash tables internally.\n",
    "\n",
    "3. **map: Used for key-value storage and retrieval.**\n",
    "- A map (or dictionary) is a higher-level data structure that uses a hash table internally to store key-value pairs, ensuring fast lookups, insertions, and deletions."
   ]
  },
  {
   "cell_type": "markdown",
   "metadata": {},
   "source": [
    "### 242. Valid Anagram\n",
    "给两个字符串，确定它们是由相同的字母组成的。\n",
    "\n",
    "a到z26个字母的ASCII是连续的。这样可以定义一个**26位array** `hash[26]`.\n",
    "- traverse第一个词这样有一个数组\n",
    "\n",
    "`for(i=0, i<s.size, i++): hash[s[i] - 'a']++;`\n",
    "- traverse第二个词的时候相应的从数组中减去\n",
    "\n",
    "`for(i=0, i<t.size, i++): hash[t[i] - 'a']--;`\n",
    "- 如果这个数组变回0，证明这两个词是Anagram\n",
    "\n",
    "`for(i=0, i<26, i++): if (hash[i] != 0) return false`\n",
    "\n",
    "in python\n",
    "\n",
    "`ord()` is a built-in function that returns the Unicode code point (ASCII value for English letters) of a given character.\n",
    "\n",
    "```python\n",
    "record[ord(i) - ord(\"a\")] += 1\n",
    "```\n",
    "- ord(i) gets the ASCII value of the character i.\n",
    "- ord(\"a\") gets the ASCII value of 'a', which is 97.\n",
    "- ord(i) - ord(\"a\") calculates the index position for the character in the record array (where 'a' maps to 0, 'b' to 1, …, 'z' to 25).\n"
   ]
  },
  {
   "cell_type": "code",
   "execution_count": 2,
   "metadata": {},
   "outputs": [
    {
     "name": "stdout",
     "output_type": "stream",
     "text": [
      "True\n",
      "False\n"
     ]
    }
   ],
   "source": [
    "class Solution:\n",
    "    def isAnagram(self, s: str, t: str) -> bool:\n",
    "        array = [0] * 26\n",
    "\n",
    "        for i in s:\n",
    "            array[ord(i) - ord('a')] += 1\n",
    "\n",
    "        for i in t:\n",
    "            array[ord(i) - ord('a')] -= 1\n",
    "\n",
    "        for i in array:\n",
    "            if i != 0:\n",
    "                return False\n",
    "            \n",
    "        return True\n",
    "    \n",
    "# test code\n",
    "s = Solution()\n",
    "print(s.isAnagram(\"anagram\", \"nagaram\")) # True\n",
    "print(s.isAnagram(\"rat\", \"car\")) # False"
   ]
  },
  {
   "cell_type": "markdown",
   "metadata": {},
   "source": [
    "### 1002. Find Common Character\n",
    "用一个巧妙的办法来算：\n",
    "\n",
    "| Character  | a | b | c | d | e | ... |\n",
    "|------------|---|---|---|---|---|-----|\n",
    "| bella      | 1 | 1 | 0 | 0 | 1 | ... |\n",
    "| label      | 1 | 1 | 0 | 0 | 1 | ... |\n",
    "| roller     | 0 | 0 | 0 | 0 | 1 | ... |\n",
    "| **min**    | 0 | 0 | 0 | 0 | 1 | ... |\n"
   ]
  },
  {
   "cell_type": "code",
   "execution_count": 5,
   "metadata": {},
   "outputs": [
    {
     "name": "stdout",
     "output_type": "stream",
     "text": [
      "['e', 'l', 'l', 'o', 'r', 'r']\n",
      "['c', 'k', 'o', 'o']\n"
     ]
    }
   ],
   "source": [
    "from typing import List\n",
    "\n",
    "class Solution:\n",
    "    def commonChars(self, words: List[str]) -> List[str]:\n",
    "        # initial a minimum frequency table\n",
    "        min_freq = [float('inf')] * 26\n",
    "\n",
    "        for word in words:\n",
    "            char_freq = [0] * 26\n",
    "            for char in word:\n",
    "                char_freq[ord(char) - ord('a')] += 1\n",
    "\n",
    "        for i in range(26):\n",
    "            min_freq[i] = min(min_freq[i], char_freq[i])\n",
    "\n",
    "        result = []\n",
    "        for i in range(26):\n",
    "            result.extend([chr(i + ord('a'))] * min_freq[i])\n",
    "\n",
    "        return result\n",
    "    \n",
    "# test code\n",
    "s = Solution()\n",
    "print(s.commonChars([\"bella\", \"label\", \"roller\"])) # [\"e\", \"l\", \"l\"]\n",
    "print(s.commonChars([\"cool\", \"lock\", \"cook\"])) # [\"c\", \"o\"]"
   ]
  },
  {
   "cell_type": "markdown",
   "metadata": {},
   "source": [
    "### 349.Intersection of Two Arrays\n",
    "在c++里面，这个题可以使用 `unordered_set` 使用的是hash来做底层数据结构。而`set` `multiple_set`是红黑树。不适合这道题。\n",
    "\n",
    "一开始这个题目没有限制number，用数组就十分的占用空间，后面限制number 1000了就可以用数组了。\n",
    "\n",
    "用set的话，就traverse nums1 进入set，然后比较traverse num2，看有没有相同的。就可以返回了。\n",
    "\n",
    "数组的话就相对来说跟1002差不多进行比较就行。"
   ]
  },
  {
   "cell_type": "code",
   "execution_count": 6,
   "metadata": {},
   "outputs": [
    {
     "name": "stdout",
     "output_type": "stream",
     "text": [
      "[2]\n",
      "[4, 9]\n"
     ]
    }
   ],
   "source": [
    "class Solution:\n",
    "    def intersection1(self, nums1: List[int], nums2: List[int]) -> List[int]:\n",
    "        return list(set(nums1) & set(nums2))\n",
    "    \n",
    "    def intersection2(self, nums1: List[int], nums2: List[int]) -> List[int]:\n",
    "        count1 = [0] * 1001\n",
    "        count2 = [0] * 1001\n",
    "        result = []\n",
    "\n",
    "        # traverse nums1 and nums2\n",
    "        for i in range(len(nums1)):\n",
    "            count1[nums1[i]] = 1\n",
    "        for i in range(len(nums2)):\n",
    "            count2[nums2[i]] = 1\n",
    "\n",
    "        # find the intersection\n",
    "        for i in range(1001):\n",
    "            if count1[i] == 1 and count2[i] == 1:\n",
    "                result.append(i)\n",
    "        \n",
    "        return result\n",
    "    \n",
    "# test code\n",
    "s = Solution()\n",
    "print(s.intersection1([1, 2, 2, 1], [2, 2])) # [2]\n",
    "print(s.intersection2([4, 9, 5], [9, 4, 9, 8, 4])) # [9, 4]"
   ]
  }
 ],
 "metadata": {
  "kernelspec": {
   "display_name": "Python 3",
   "language": "python",
   "name": "python3"
  },
  "language_info": {
   "codemirror_mode": {
    "name": "ipython",
    "version": 3
   },
   "file_extension": ".py",
   "mimetype": "text/x-python",
   "name": "python",
   "nbconvert_exporter": "python",
   "pygments_lexer": "ipython3",
   "version": "3.11.11"
  }
 },
 "nbformat": 4,
 "nbformat_minor": 2
}
