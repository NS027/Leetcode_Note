{
 "cells": [
  {
   "cell_type": "markdown",
   "metadata": {},
   "source": [
    "# Hash Table\n",
    "<hr>"
   ]
  },
  {
   "cell_type": "markdown",
   "metadata": {},
   "source": [
    "## Definition\n",
    "一般来说就是根据关键码(**map keys**)来直接进行访问的数据结构。要使用**hash function**。数组就是一种hash table。\n",
    "\n",
    "当我们遇到了要**快速判断一个元素是否出现集合里**的时候，就要考虑哈希法。\n",
    "\n",
    "但是哈希法也是**牺牲了空间换取了时间**，因为我们要使用额外的数组，set或者是map来存放数据，才能实现快速的查找。\n",
    "\n",
    "### Hash function\n",
    "例如学生名字进行举例：\n",
    "\n",
    "`index = hashFunction(name)`\n",
    "\n",
    "`hashFuction = hashCode(name)%tableSize`\n",
    "\n",
    "如果两个不同的名字mod之后的值一样，就涉及到**hash collision**\n",
    "\n",
    "### Hash collision\n",
    "1. **Chaining 拉链法**<br>\n",
    "Store multiple values at the same index using a linked list, array, or other data structures. When a collision occurs, new values are added to the list at that index.\n",
    "2. **Open Addressing**\n",
    "- *Linear Probing:* Check the next index sequentially until an empty slot is found. (**tableSize > dataSize**)\n",
    "- *Quadratic Probing:* Use a quadratic function to find the next available slot (e.g., index + 1², index + 2², ...).\n",
    "- *Double Hashing:* Use a second hash function to determine the step size for resolving collisions.\n",
    "\n",
    "### Hash table structure\n",
    "In most cases, **maps (dictionaries)** are the most common implementation of hash tables in programming languages like **Python (dict), Java (HashMap), and JavaScript (Map)**.\n",
    "\n",
    "1. **array: Used for the base structure to store values at hashed indices.**\n",
    "- Most hash table implementations use an array as the underlying data structure to store values at computed indices. This allows for constant-time access ($O(1)$ on average) when resolving hash function outputs.\n",
    "\n",
    "2. **set: Used when only key existence needs to be checked.**\n",
    "- A set is typically used when a hash table only needs to store unique keys without associated values. Many programming languages implement sets using hash tables internally.\n",
    "\n",
    "3. **map: Used for key-value storage and retrieval.**\n",
    "- A map (or dictionary) is a higher-level data structure that uses a hash table internally to store key-value pairs, ensuring fast lookups, insertions, and deletions."
   ]
  }
 ],
 "metadata": {
  "kernelspec": {
   "display_name": "Python 3",
   "language": "python",
   "name": "python3"
  },
  "language_info": {
   "name": "python",
   "version": "3.11.11"
  }
 },
 "nbformat": 4,
 "nbformat_minor": 2
}
