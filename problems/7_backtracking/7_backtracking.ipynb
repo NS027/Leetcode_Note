{
 "cells": [
  {
   "cell_type": "markdown",
   "id": "d6311130",
   "metadata": {},
   "source": [
    "# Backtracking"
   ]
  },
  {
   "cell_type": "markdown",
   "id": "6d4b6333",
   "metadata": {},
   "source": [
    "## 回溯算法题目分类\n",
    "\n",
    "### 组合 Combination\n",
    "- [77. 组合 (Combinations)](#77-组合-combinations)\n",
    "- [17. 电话号码的字母组合 (Letter Combinations of a Phone Number)](#17-电话号码的字母组合-letter-combinations-of-a-phone-number)\n",
    "- [39. 组合总和 (Combination Sum)](#39-组合总和-combination-sum)\n",
    "- [40. 组合总和 II (Combination Sum II)](#40-组合总和-ii-combination-sum-ii)\n",
    "- [216. 组合总和 III (Combination Sum III)](#216-组合总和-iii-combination-sum-iii)\n",
    "\n",
    "### 分割 Partition\n",
    "- [131. 分割回文串 (Palindrome Partitioning)](#131-分割回文串-palindrome-partitioning)\n",
    "- [93. 复原 IP 地址 (Restore IP Addresses)](#93-复原-ip-地址-restore-ip-addresses)\n",
    "\n",
    "### 子集 Subsets\n",
    "- [78. 子集 (Subsets)](#78-子集-subsets)\n",
    "- [90. 子集 II (Subsets II)](#90-子集-ii-subsets-ii)\n",
    "\n",
    "### 排列 Permutation\n",
    "- [46. 全排列 (Permutations)](#46-全排列-permutations)\n",
    "- [47. 全排列 II (Permutations II)](#47-全排列-ii-permutations-ii)\n",
    "\n",
    "### 棋盘问题 Chessboard Problems\n",
    "- [51. N 皇后 (N-Queens)](#51-n-皇后-n-queens)\n",
    "- [37. 解数独 (Sudoku Solver)](#37-解数独-sudoku-solver)\n",
    "\n",
    "### 其他 Others\n",
    "- [491. 递增子序列 (Increasing Subsequences)](#491-递增子序列-increasing-subsequences)\n",
    "- [332. 重新安排行程 (Reconstruct Itinerary)](#332-重新安排行程-reconstruct-itinerary)"
   ]
  }
 ],
 "metadata": {
  "kernelspec": {
   "display_name": "Python 3",
   "language": "python",
   "name": "python3"
  },
  "language_info": {
   "name": "python",
   "version": "3.11.11"
  }
 },
 "nbformat": 4,
 "nbformat_minor": 5
}
