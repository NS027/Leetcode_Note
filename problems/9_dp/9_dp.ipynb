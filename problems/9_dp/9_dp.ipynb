{
 "cells": [
  {
   "cell_type": "markdown",
   "id": "5a7934f8",
   "metadata": {},
   "source": [
    "# Dynamic Programming\n",
    "---\n",
    "\n",
    "### 动规五部曲分别为：\n",
    "\n",
    "1. 确定dp数组（dp table）以及下标的含义\n",
    "2. 确定递推公式\n",
    "3. dp数组如何初始化\n",
    "4. 确定遍历顺序\n",
    "5. 举例推导dp数组\n",
    "\n",
    "---"
   ]
  },
  {
   "cell_type": "markdown",
   "id": "15f6b78d",
   "metadata": {},
   "source": [
    "## Basic\n",
    "\n",
    "#### 509 Fibonacci\n",
    "1. 确定dp数组（dp table）以及下标的含义\n",
    "- dp[i]代表第 i 个数字\n",
    "2. 确定递推公式\n",
    "- `dp[i] = dp[i - 1] + dp[i - 2]`\n",
    "3. dp数组如何初始化\n",
    "- `dp[0] = 1, dp[1] = 1`\n",
    "4. 确定遍历顺序\n",
    "- 要从前向后遍历，保证dp[i] 是最新的更新的。\n",
    "5. 举例推导dp数组\n",
    "- 用来debug"
   ]
  },
  {
   "cell_type": "code",
   "execution_count": 1,
   "id": "1a867269",
   "metadata": {},
   "outputs": [
    {
     "name": "stdout",
     "output_type": "stream",
     "text": [
      "8\n"
     ]
    }
   ],
   "source": [
    "class Solution:\n",
    "    def fib(self, n: int) -> int:\n",
    "        if n <= 1:\n",
    "            return n\n",
    "\n",
    "        dp = [0] * (n + 1)\n",
    "        dp[0] = 1 \n",
    "        dp[1] = 1\n",
    "\n",
    "        for i in range(2, n + 1):\n",
    "            dp[i] = dp[i - 1] + dp[i - 2]\n",
    "\n",
    "        return dp[n]\n",
    "\n",
    "# example usage\n",
    "solution = Solution()\n",
    "print(solution.fib(5))  # Output: 5"
   ]
  }
 ],
 "metadata": {
  "kernelspec": {
   "display_name": "Python 3",
   "language": "python",
   "name": "python3"
  },
  "language_info": {
   "codemirror_mode": {
    "name": "ipython",
    "version": 3
   },
   "file_extension": ".py",
   "mimetype": "text/x-python",
   "name": "python",
   "nbconvert_exporter": "python",
   "pygments_lexer": "ipython3",
   "version": "3.11.11"
  }
 },
 "nbformat": 4,
 "nbformat_minor": 5
}
