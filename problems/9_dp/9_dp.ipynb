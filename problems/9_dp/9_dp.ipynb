{
 "cells": [
  {
   "cell_type": "markdown",
   "id": "5a7934f8",
   "metadata": {},
   "source": [
    "# Dynamic Programming\n",
    "---\n",
    "\n",
    "### 动规五部曲分别为：\n",
    "\n",
    "1. 确定dp数组（dp table）以及下标的含义\n",
    "2. 确定递推公式\n",
    "3. dp数组如何初始化\n",
    "4. 确定遍历顺序\n",
    "5. 举例推导dp数组\n",
    "\n",
    "---"
   ]
  },
  {
   "cell_type": "markdown",
   "id": "15f6b78d",
   "metadata": {},
   "source": [
    "## Basic\n",
    "\n",
    "#### 509 Fibonacci\n",
    "1. 确定dp数组（dp table）以及下标的含义\n",
    "- dp[i]代表第 i 个数字\n",
    "2. 确定递推公式\n",
    "- `dp[i] = dp[i - 1] + dp[i - 2]`\n",
    "3. dp数组如何初始化\n",
    "- `dp[0] = 1, dp[1] = 1`\n",
    "4. 确定遍历顺序\n",
    "- 要从前向后遍历，保证dp[i] 是最新的更新的。\n",
    "5. 举例推导dp数组\n",
    "- 用来debug"
   ]
  },
  {
   "cell_type": "code",
   "execution_count": 1,
   "id": "1a867269",
   "metadata": {},
   "outputs": [
    {
     "name": "stdout",
     "output_type": "stream",
     "text": [
      "8\n"
     ]
    }
   ],
   "source": [
    "class Solution:\n",
    "    def fib(self, n: int) -> int:\n",
    "        if n <= 1:\n",
    "            return n\n",
    "\n",
    "        dp = [0] * (n + 1)\n",
    "        dp[0] = 1 \n",
    "        dp[1] = 1\n",
    "\n",
    "        for i in range(2, n + 1):\n",
    "            dp[i] = dp[i - 1] + dp[i - 2]\n",
    "\n",
    "        return dp[n]\n",
    "\n",
    "# example usage\n",
    "solution = Solution()\n",
    "print(solution.fib(5))  # Output: 5"
   ]
  },
  {
   "cell_type": "markdown",
   "id": "fb094e17",
   "metadata": {},
   "source": [
    "#### 70. Climbing Stairs\n",
    "\n",
    "| 阶梯 | 方法数 | 解释                   | 公式                  |\n",
    "|------|--------|------------------------|------------------------|\n",
    "| 1阶  | 1种    | 只能走一步             | F(1) = 1                         |\n",
    "| 2阶  | 2种    | 1+1 或 2               | F(2) = 2   |\n",
    "| 3阶  | 3种    | 从 1阶（2种）+ 2阶（1种） | F(3) = F(1) + F(2) = 1 + 2 = 3   |\n",
    "| 4阶  | 5种    | 从 2阶（2种）+ 3阶（3种） | F(4) = F(2) + F(3) = 2 + 3 = 5   |\n",
    "\n",
    "\n",
    "\n",
    "\n",
    "1. 确定dp数组（dp table）以及下标的含义\n",
    "- dp[i] 就是哪一层台阶的方法数\n",
    "2. 确定递推公式\n",
    "-  `dp[i] = dp[i - 1] + dp[i - 2]`  \n",
    "3. dp数组如何初始化\n",
    "- `dp[0] = 1, dp[1] = 2`\n",
    "4. 确定遍历顺序\n",
    "- 从前往后遍历\n",
    "5. 举例推导dp数组"
   ]
  },
  {
   "cell_type": "code",
   "execution_count": null,
   "id": "be412235",
   "metadata": {},
   "outputs": [
    {
     "name": "stdout",
     "output_type": "stream",
     "text": [
      "5\n"
     ]
    }
   ],
   "source": [
    "class Solution:\n",
    "    def climbStairs(self, n: int) -> int:\n",
    "        if n == 1 or n == 2:\n",
    "            return n\n",
    "\n",
    "        dp = [0] * (n + 1)\n",
    "        dp[1] = 1\n",
    "        dp[2] = 2\n",
    "        \n",
    "        for i in range(3, n + 1):\n",
    "            dp[i] = dp[i - 1] + dp[i - 2]\n",
    "        \n",
    "        return dp[n]\n",
    "    \n",
    "# example usage\n",
    "solution = Solution()\n",
    "print(solution.climbStairs(4))  # Output: 5"
   ]
  },
  {
   "cell_type": "markdown",
   "id": "a42debe9",
   "metadata": {},
   "source": [
    "#### 746. Min Cost Climbing Stairs\n",
    "\n",
    "1. 确定dp数组（dp table）以及下标的含义\n",
    "- dp[i]. i是下标，数组里面的值是min cost\n",
    "2. 确定递推公式\n",
    "- dp[i] 是由 dp[i - 1] 和 dp[i - 2]得来的\n",
    "- 分别花费是: `dp[i - 1]+ cost[i - 1]`, `dp[i - 2] + cost[i - 2]`\n",
    "- 所以要取这两个之间最少的那个\n",
    "3. dp数组如何初始化\n",
    "- 基础在于 dp[0] 和 dp[1]\n",
    "- 一开始跳不需要能量，所以都等于0\n",
    "4. 确定遍历顺序\n",
    "- 从前往后遍历即可\n",
    "5. 举例推导dp数组"
   ]
  },
  {
   "cell_type": "code",
   "execution_count": 5,
   "id": "987e8b34",
   "metadata": {},
   "outputs": [
    {
     "name": "stdout",
     "output_type": "stream",
     "text": [
      "15\n",
      "6\n"
     ]
    }
   ],
   "source": [
    "from typing import List\n",
    "# Optimaztion: Using O(1) space\n",
    "class Solution:\n",
    "    def minCostClimbingStairs(self, cost: List[int]) -> int:\n",
    "        prev, curr = 0, 0\n",
    "        for i in range(2, len(cost) + 1):\n",
    "            next = min((curr + cost[i - 1]), \n",
    "                        (prev + cost[i - 2]))\n",
    "            prev, curr = curr, next\n",
    "        \n",
    "        return curr\n",
    "    \n",
    "# example usage\n",
    "solution = Solution()\n",
    "print(solution.minCostClimbingStairs([10, 15, 20]))  # Output: 15\n",
    "print(solution.minCostClimbingStairs([1, 100, 1, 1, 1, 100, 1, 1, 100, 1]))  # Output: 6"
   ]
  },
  {
   "cell_type": "markdown",
   "id": "60163689",
   "metadata": {},
   "source": [
    "#### 62. Unique Path\n",
    "1. 确定dp数组（dp table）以及下标的含义\n",
    "- dp[i][j]. i, j是点的位置\n",
    "2. 确定递推公式\n",
    "- 矩阵是由: `dp[i - 1]+ dp[j]`, `dp[i] + dp[j - 1]`. 所以dp[i][j]是由这两个之和。\n",
    "3. dp数组如何初始化\n",
    "- 一定从最上面一行和最右边一列来的\n",
    "- `dp[0][j]` `dp[i][0]`这里面都只有一种。\n",
    "4. 确定遍历顺序\n",
    "- 从左往右坐上往下遍历\n",
    "5. 举例推导dp数组"
   ]
  },
  {
   "cell_type": "code",
   "execution_count": 7,
   "id": "807286ae",
   "metadata": {},
   "outputs": [
    {
     "name": "stdout",
     "output_type": "stream",
     "text": [
      "28\n"
     ]
    }
   ],
   "source": [
    "class Solution:\n",
    "    def uniquePaths(self, m: int, n: int) -> int:\n",
    "        # 初始化一个 m 行 n 列的二维数组，初始值为 0\n",
    "        dp = [[0] * n for _ in range(m)]\n",
    "        \n",
    "        # 设置第一列为1：从起点往下只有一种走法\n",
    "        for i in range(m):\n",
    "            dp[i][0] = 1\n",
    "\n",
    "        # 设置第一行为1：从起点往右也只有一种走法\n",
    "        for j in range(n):\n",
    "            dp[0][j] = 1\n",
    "\n",
    "        # 状态转移方程：每个格子的路径数 = 上方格子路径数 + 左方格子路径数\n",
    "        for i in range(1, m):\n",
    "            for j in range(1, n):\n",
    "                dp[i][j] = dp[i - 1][j] + dp[i][j - 1]\n",
    "\n",
    "        # 返回终点的路径数\n",
    "        return dp[m - 1][n - 1]\n",
    "    \n",
    "\n",
    "# example usage\n",
    "solution = Solution()\n",
    "print(solution.uniquePaths(3, 7))  # Output: 28"
   ]
  }
 ],
 "metadata": {
  "kernelspec": {
   "display_name": "Python 3",
   "language": "python",
   "name": "python3"
  },
  "language_info": {
   "codemirror_mode": {
    "name": "ipython",
    "version": 3
   },
   "file_extension": ".py",
   "mimetype": "text/x-python",
   "name": "python",
   "nbconvert_exporter": "python",
   "pygments_lexer": "ipython3",
   "version": "3.11.11"
  }
 },
 "nbformat": 4,
 "nbformat_minor": 5
}
