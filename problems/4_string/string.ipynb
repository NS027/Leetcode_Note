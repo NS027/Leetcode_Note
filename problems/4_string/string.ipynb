{
 "cells": [
  {
   "cell_type": "markdown",
   "metadata": {},
   "source": [
    "# String\n",
    "<hr>"
   ]
  },
  {
   "cell_type": "markdown",
   "metadata": {},
   "source": [
    "### 344 Reverse String\n",
    "\n",
    "使用双指针法来进行reverse。要求$O(1)$.首位交换，再往中间移动再换。\n",
    "\n"
   ]
  },
  {
   "cell_type": "code",
   "execution_count": 5,
   "metadata": {},
   "outputs": [
    {
     "name": "stdout",
     "output_type": "stream",
     "text": [
      "['o', 'l', 'l', 'e', 'h']\n"
     ]
    }
   ],
   "source": [
    "from typing import List\n",
    "class Solution:\n",
    "    def reverseString(self, s: List[str]) -> None:\n",
    "        \"\"\"\n",
    "        Do not return anything, modify s in-place instead.\n",
    "        \"\"\"\n",
    "        # define the length of the string\n",
    "        n = len(s)\n",
    "\n",
    "        # define two pointers\n",
    "        left, right = 0, n-1\n",
    "\n",
    "        # loop until the two pointers meet\n",
    "        while left < right:\n",
    "            # swap the two elements\n",
    "            s[left], s[right] = s[right], s[left]\n",
    "            # move the two pointers\n",
    "            left, right = left+1, right-1\n",
    "\n",
    "# test the solution\n",
    "s = Solution()\n",
    "test1 = [\"h\",\"e\",\"l\",\"l\",\"o\"]\n",
    "s.reverseString(test1)\n",
    "print(test1)\n"
   ]
  },
  {
   "cell_type": "markdown",
   "metadata": {},
   "source": [
    "### 541. Reverse String II\n",
    "每次移动pointer的时候，不用`i++` `i += 2k`来移动就好了。\n",
    "\n",
    "就是在`for`循环的时候，用`for i in range(0, n, 2 * k)`\n",
    "\n",
    "其次进行swap的时候，用`s[i: i+k] = swap(s[i: i+k])`"
   ]
  },
  {
   "cell_type": "code",
   "execution_count": null,
   "metadata": {},
   "outputs": [
    {
     "name": "stdout",
     "output_type": "stream",
     "text": [
      "bacdfeg\n"
     ]
    }
   ],
   "source": [
    "class Solution:\n",
    "    def reverseStr(self, s: str, k: int) -> str:\n",
    "        \"\"\"\n",
    "        1. 使用range(start, end, step)来确定需要调换的初始位置\n",
    "        2. 对于字符串s = 'abc'，如果使用s[0:999] ===> 'abc'。字符串末尾如果超过最大长度，则会返回至字符串最后一个值，这个特性可以避免一些边界条件的处理。\n",
    "        3. 用切片整体替换，而不是一个个替换.\n",
    "        \"\"\"\n",
    "        def swap(text: list) -> list:\n",
    "            n = len(text)\n",
    "            left, right = 0, n-1\n",
    "            while left < right:\n",
    "                text[left], text[right] = text[right], text[left]\n",
    "                left, right = left+1, right-1\n",
    "            return text\n",
    "        \n",
    "        s = list(s)\n",
    "        n = len(s)\n",
    "\n",
    "        for i in range(0, n, 2*k):\n",
    "            s[i:i+k] = swap(s[i:i+k])\n",
    "\n",
    "        return \"\".join(s)\n",
    "    \n",
    "# test the solution\n",
    "s = Solution()\n",
    "test = \"abcdefg\"\n",
    "print(s.reverseStr(test, 2))\n",
    "\n",
    "         "
   ]
  }
 ],
 "metadata": {
  "kernelspec": {
   "display_name": "Python 3",
   "language": "python",
   "name": "python3"
  },
  "language_info": {
   "codemirror_mode": {
    "name": "ipython",
    "version": 3
   },
   "file_extension": ".py",
   "mimetype": "text/x-python",
   "name": "python",
   "nbconvert_exporter": "python",
   "pygments_lexer": "ipython3",
   "version": "3.11.11"
  }
 },
 "nbformat": 4,
 "nbformat_minor": 2
}
