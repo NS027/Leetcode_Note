{
 "cells": [
  {
   "cell_type": "markdown",
   "id": "105f1a08",
   "metadata": {},
   "source": [
    "# Questions for binary tree\n",
    "\n",
    "## 1. Traverse\n",
    "\n",
    "### 1.1 Basic\n",
    "#### 144,145,94 Preorder, Postorder, Inorder Traverse\n",
    "就是记住中的位置来定义这个前序中序后续traverse。\n",
    "\n",
    "首先定义一个binary tree\n",
    "```python\n",
    "Definition for a binary tree node.\n",
    "class TreeNode:\n",
    "    def __init__(self, val=0, left=None, right=None):\n",
    "        self.val = val\n",
    "        self.left = left\n",
    "        self.right = right\n",
    "```\n",
    "\n",
    "其次定义左中右\n",
    "```python\n",
    "result = []\n",
    "\n",
    "def dfs(node):\n",
    "    # 左\n",
    "    dfs(node.left)\n",
    "    # 中\n",
    "    result.append(node.val)\n",
    "    # 右\n",
    "    dfs(node.right)\n",
    "```\n",
    "### 1.2 Level Order\n",
    "#### 102, 107 Binary Tree Level Order Traversal I II\n",
    "\n",
    "- 层序遍历本质上是 广度优先搜索（BFS）。\n",
    "- 需要用 队列（Queue） 辅助：\n",
    "- 把当前层的节点依次出队，访问并将它们的子节点入队。\n",
    "- 每一层结束后，把该层的节点值加入结果列表。\n",
    "\n",
    "1.\t初始化\n",
    "- 如果 root 为空，直接返回 []。\n",
    "- 建立 queue，初始放入根节点。\n",
    "- 建立 result 用来保存每一层的节点值。\n",
    "2.\tBFS循环\n",
    "- 当 queue 不为空：\n",
    "- 记录当前层节点个数 size = len(queue)。\n",
    "- 创建一个临时列表 level = []。\n",
    "- 循环 size 次：\n",
    "- 出队一个节点，加入 level。\n",
    "- 如果有左子节点，入队。\n",
    "- 如果有右子节点，入队。\n",
    "- 当前层遍历结束，把 level 加入 result。\n",
    "3.\t返回结果\n",
    "- 最终返回 result。\n",
    "4.  如果是翻转结果\n",
    "- ```result[ : : -1]```"
   ]
  },
  {
   "cell_type": "code",
   "execution_count": 5,
   "id": "7f42ed76",
   "metadata": {},
   "outputs": [
    {
     "name": "stdout",
     "output_type": "stream",
     "text": [
      "[[3], [9, 20], [15, 7]]\n"
     ]
    }
   ],
   "source": [
    "from collections import deque\n",
    "# Binary Tree\n",
    "class treeNode:\n",
    "    def __init__(self, value):\n",
    "        self.value = value\n",
    "        self.left = None\n",
    "        self.right = None\n",
    "\n",
    "class Solution:\n",
    "    def levelOrder(self, root):\n",
    "        if not root:\n",
    "            return []\n",
    "        \n",
    "        result = []\n",
    "        queue = deque([root])\n",
    "\n",
    "        while queue:\n",
    "            level = []\n",
    "            for _ in range(len(queue)):\n",
    "                node = queue.popleft()\n",
    "                level.append(node.value)\n",
    "                if node.left:\n",
    "                    queue.append(node.left)\n",
    "                if node.right:\n",
    "                    queue.append(node.right)\n",
    "            result.append(level)\n",
    "\n",
    "        return result\n",
    "    \n",
    "# Example usage\n",
    "if __name__ == \"__main__\":\n",
    "    root = treeNode(3)\n",
    "    root.left = treeNode(9)\n",
    "    root.right = treeNode(20)\n",
    "    root.left.left = treeNode(15)\n",
    "    root.left.right = treeNode(7)\n",
    "\n",
    "    solution = Solution()\n",
    "    print(solution.levelOrder(root))"
   ]
  },
  {
   "cell_type": "markdown",
   "id": "eed86145",
   "metadata": {},
   "source": [
    "       3\n",
    "      / \\\n",
    "     9  20\n",
    "       /  \\\n",
    "      15   7\n",
    "\n",
    "初始化：queue = [3]\n",
    "第一轮：len(queue)=1 → level=[3], queue=[9,20], result=[[3]]\n",
    "\n",
    "第二轮：len(queue)=2 → level=[9,20], queue=[15,7], result=[[3],[9,20]]\n",
    "\n",
    "第三轮：len(queue)=2 → level=[15,7], queue=[], result=[[3],[9,20],[15,7]]"
   ]
  },
  {
   "cell_type": "markdown",
   "id": "7836158c",
   "metadata": {},
   "source": [
    "#### 199 Binary Tree Right side view\n",
    "其实就是层序遍历，判断是否遍历到层序的最后一个元素然后放进result就可以了\n",
    "\n",
    "用if语句判断：\n",
    "```python\n",
    "size = len(queue)\n",
    "if i == size - 1:\n",
    "    result.append(node.val)\n",
    "```\n"
   ]
  },
  {
   "cell_type": "code",
   "execution_count": 6,
   "id": "996f21da",
   "metadata": {},
   "outputs": [
    {
     "name": "stdout",
     "output_type": "stream",
     "text": [
      "[1, 3, 4]\n"
     ]
    }
   ],
   "source": [
    "from collections import deque\n",
    "\n",
    "class treeNode:\n",
    "    def __init__(self, val=0, left=None, right=None):\n",
    "        self.val = val\n",
    "        self.left = left\n",
    "        self.right = right\n",
    "\n",
    "class Solution:\n",
    "    def rightSideView(self, root):\n",
    "        if not root:\n",
    "            return []\n",
    "        \n",
    "        result = []\n",
    "        queue = deque([root])\n",
    "\n",
    "        while queue:\n",
    "            size = len(queue)\n",
    "            for i in range(size):\n",
    "                node = queue.popleft()\n",
    "                if i == size - 1:\n",
    "                    result.append(node.val)\n",
    "                if node.left:\n",
    "                    queue.append(node.left)\n",
    "                if node.right:\n",
    "                    queue.append(node.right)\n",
    "        return result\n",
    "    \n",
    "# Example usage\n",
    "if __name__ == \"__main__\":\n",
    "    root = treeNode(1)\n",
    "    root.left = treeNode(2)\n",
    "    root.right = treeNode(3)\n",
    "    root.left.right = treeNode(5)\n",
    "    root.right.right = treeNode(4)\n",
    "\n",
    "    solution = Solution()\n",
    "    print(solution.rightSideView(root))\n"
   ]
  },
  {
   "cell_type": "markdown",
   "id": "5fc62993",
   "metadata": {},
   "source": [
    "#### 637 Average  of Levels in Binary Tree\n",
    "\n",
    "只需要记录一个sum和avg就可以了。"
   ]
  },
  {
   "cell_type": "code",
   "execution_count": 3,
   "id": "dec96916",
   "metadata": {},
   "outputs": [
    {
     "name": "stdout",
     "output_type": "stream",
     "text": [
      "[3.0, 14.5, 11.0]\n"
     ]
    }
   ],
   "source": [
    "from collections import deque\n",
    "class treeNode:\n",
    "    def __init__(self, val=0, left=None, right=None):\n",
    "        self.val = val\n",
    "        self.left = left\n",
    "        self.right = right\n",
    "\n",
    "class Solution:\n",
    "    def averageOfLevels(self, root):\n",
    "        if not root:\n",
    "            return []\n",
    "        \n",
    "        queue = deque([root])\n",
    "        averages = []\n",
    "\n",
    "        while queue:\n",
    "            size = len(queue)\n",
    "            level_sum = 0\n",
    "\n",
    "            for i in range(size):\n",
    "                node = queue.popleft()\n",
    "                level_sum += node.val\n",
    "                if node.left:\n",
    "                    queue.append(node.left)\n",
    "                if node.right:\n",
    "                    queue.append(node.right)\n",
    "            averages.append(level_sum / size)\n",
    "\n",
    "        return averages\n",
    "    \n",
    "# Example usage\n",
    "if __name__ == \"__main__\":\n",
    "    root = treeNode(3)\n",
    "    root.left = treeNode(9)\n",
    "    root.right = treeNode(20)\n",
    "    root.right.left = treeNode(15)\n",
    "    root.right.right = treeNode(7)\n",
    "\n",
    "    solution = Solution()\n",
    "    print(solution.averageOfLevels(root))"
   ]
  },
  {
   "cell_type": "markdown",
   "id": "075f4888",
   "metadata": {},
   "source": [
    "#### 429. N-ray Tree Level Order Traversal\n",
    "其实是一样的，把left right变为for loop循环child节点"
   ]
  },
  {
   "cell_type": "code",
   "execution_count": 7,
   "id": "74f0b280",
   "metadata": {},
   "outputs": [
    {
     "name": "stdout",
     "output_type": "stream",
     "text": [
      "[[1], [3, 2, 4], [5, 6]]\n"
     ]
    }
   ],
   "source": [
    "from collections import deque\n",
    "from typing import List, Optional\n",
    "class Node:\n",
    "    def __init__(self, val: Optional[int] = None, children: Optional[List['Node']] = None):\n",
    "        self.val = val\n",
    "        self.children = children \n",
    "\n",
    "class Solution:\n",
    "    def levelOrder(self, root: 'Node') -> List[List[int]]:\n",
    "        if not root:\n",
    "            return []\n",
    "        \n",
    "        result = []\n",
    "        queue = deque([root])\n",
    "\n",
    "        while queue:\n",
    "            level = []\n",
    "            size = len(queue)\n",
    "\n",
    "            for  _ in range(size):\n",
    "                node = queue.popleft()\n",
    "                level.append(node.val)\n",
    "\n",
    "                if node.children:\n",
    "                    for child in node.children:\n",
    "                        queue.append(child)\n",
    "            result.append(level)\n",
    "\n",
    "        return result\n",
    "# Example usage\n",
    "if __name__ == \"__main__\":\n",
    "    root = Node(1, [Node(3, [Node(5), Node(6)]), Node(2), Node(4)])\n",
    "    solution = Solution()\n",
    "    print(solution.levelOrder(root))\n"
   ]
  },
  {
   "cell_type": "markdown",
   "id": "176925b4",
   "metadata": {},
   "source": [
    "#### 515 Find Largest Value in Each Tree\n",
    "同样的，就是BFS层序搜索，找最大值就行"
   ]
  },
  {
   "cell_type": "code",
   "execution_count": 8,
   "id": "a44243bf",
   "metadata": {},
   "outputs": [
    {
     "name": "stdout",
     "output_type": "stream",
     "text": [
      "[1, 3, 9]\n"
     ]
    }
   ],
   "source": [
    "class TreeNode:\n",
    "    def __init__(self, val=0, left=None, right=None):\n",
    "        self.val = val\n",
    "        self.left = left\n",
    "        self.right = right\n",
    "\n",
    "class Solution:\n",
    "    def findLargestValue(self, root: Optional[TreeNode]) -> List[int]:\n",
    "        if not root:\n",
    "            return []\n",
    "        \n",
    "        result = []\n",
    "        queue = deque([root])\n",
    "\n",
    "        while queue:\n",
    "            max_val = float('-inf')\n",
    "            size = len(queue)\n",
    "\n",
    "            for _ in range(size):\n",
    "                node = queue.popleft()\n",
    "                max_val = max(max_val, node.val)\n",
    "                \n",
    "                if node.left:\n",
    "                    queue.append(node.left)\n",
    "                if node.right:\n",
    "                    queue.append(node.right)\n",
    "\n",
    "            result.append(max_val)\n",
    "        return result\n",
    "    \n",
    "# Example usage\n",
    "if __name__ == \"__main__\":\n",
    "    root = TreeNode(1)\n",
    "    root.left = TreeNode(3)\n",
    "    root.right = TreeNode(2)\n",
    "    root.left.left = TreeNode(5)\n",
    "    root.left.right = TreeNode(3)\n",
    "    root.right.right = TreeNode(9)\n",
    "\n",
    "    solution = Solution()\n",
    "    print(solution.findLargestValue(root))"
   ]
  },
  {
   "cell_type": "markdown",
   "id": "ca1564ab",
   "metadata": {},
   "source": [
    "#### 116 117 Populating Next Right Pointers in Each Node\n",
    "\n",
    "注意一下next 的pointer指向哪里就可以了。"
   ]
  },
  {
   "cell_type": "code",
   "execution_count": 9,
   "id": "e195b9b5",
   "metadata": {},
   "outputs": [
    {
     "name": "stdout",
     "output_type": "stream",
     "text": [
      "3\n",
      "5\n",
      "6\n",
      "None\n"
     ]
    }
   ],
   "source": [
    "from collections import deque\n",
    "from typing import Optional\n",
    "\n",
    "# Definition for a Node.\n",
    "class Node:\n",
    "    def __init__(self, val: int = 0, left: 'Node' = None, right: 'Node' = None, next: 'Node' = None):\n",
    "        self.val = val\n",
    "        self.left = left\n",
    "        self.right = right\n",
    "        self.next = next\n",
    "\n",
    "class Solution:\n",
    "    def connect(self, root: 'Optional[Node]') -> 'Optional[Node]':\n",
    "        if not root:\n",
    "            return None \n",
    "\n",
    "        queue = deque([root])\n",
    "\n",
    "        while queue:\n",
    "            size = len(queue)\n",
    "            prev = None\n",
    "\n",
    "            for _ in range(size):\n",
    "                node = queue.popleft()\n",
    "\n",
    "                if prev:\n",
    "                    prev.next = node\n",
    "\n",
    "                prev = node\n",
    "                if node.left:\n",
    "                    queue.append(node.left)\n",
    "                if node.right:\n",
    "                    queue.append(node.right)\n",
    "            prev.next = None\n",
    "        return root\n",
    "    \n",
    "# Example usage\n",
    "if __name__ == \"__main__\":\n",
    "    root = Node(1)\n",
    "    root.left = Node(2)\n",
    "    root.right = Node(3)\n",
    "    root.left.left = Node(4)\n",
    "    root.left.right = Node(5)\n",
    "    root.right.right = Node(6)\n",
    "\n",
    "    solution = Solution()\n",
    "    solution.connect(root)\n",
    "\n",
    "    # Print next pointers\n",
    "    print(root.left.next.val)  # Should print 3\n",
    "    print(root.left.left.next.val)  # Should print 5\n",
    "    print(root.left.right.next.val)  # Should print 6\n",
    "    print(root.right.right.next)  # Should print None"
   ]
  },
  {
   "cell_type": "markdown",
   "id": "b0cf22c9",
   "metadata": {},
   "source": [
    "#### 111. Minimum Depth of Binary Tree /104.Maximum\n",
    "\n",
    "其实也是层序遍历，只需要加入这个depth的计数就行。Min的时候需要判断left/right child 为空即可。"
   ]
  },
  {
   "cell_type": "code",
   "execution_count": 10,
   "id": "6576cb26",
   "metadata": {},
   "outputs": [
    {
     "name": "stdout",
     "output_type": "stream",
     "text": [
      "2\n"
     ]
    }
   ],
   "source": [
    "from collections import deque\n",
    "class TreeNode:\n",
    "    def __init__(self, val=0, left=None, right=None):\n",
    "        self.val = val\n",
    "        self.left = left\n",
    "        self.right = right\n",
    "\n",
    "class Solution:\n",
    "    def minDepth(self, root: Optional[TreeNode]) -> int:\n",
    "        if not root:\n",
    "            return 0\n",
    "        \n",
    "        depth = 0\n",
    "        queue = deque([root])\n",
    "\n",
    "        while queue:\n",
    "            depth += 1\n",
    "            size = len(queue)\n",
    "\n",
    "            for _ in range(size):\n",
    "                node = queue.popleft()\n",
    "\n",
    "                if not node.left and not node.right:\n",
    "                    return depth\n",
    "                if node.left:\n",
    "                    queue.append(node.left)\n",
    "                if node.right:\n",
    "                    queue.append(node.right)\n",
    "        return depth\n",
    "    \n",
    "# Example usage\n",
    "if __name__ == \"__main__\":\n",
    "    root = TreeNode(1)\n",
    "    root.left = TreeNode(2)\n",
    "    root.right = TreeNode(3)\n",
    "    root.left.left = TreeNode(4)\n",
    "    root.left.right = TreeNode(5)\n",
    "\n",
    "    solution = Solution()\n",
    "    print(solution.minDepth(root))  # Should print 2 (the path is 1 -> 3)"
   ]
  },
  {
   "cell_type": "markdown",
   "id": "f4c79c96",
   "metadata": {},
   "source": [
    "## 2. Properties of Binary Tree\n",
    "\n",
    "#### 101 Symmetric Tree\n"
   ]
  },
  {
   "cell_type": "markdown",
   "id": "8f8a44bb",
   "metadata": {},
   "source": [
    "## 3. Structure and fix\n",
    "\n",
    "#### 226. Invert Binary Tree\n",
    "首先这题需要用到recursion。这题要么使用preorder要么使用postorder。不能使用inorder因为如果用的话，右子树会直接翻转到左子树下面，而导致左子树被处理两次。\n",
    "\n",
    "所以只需要简单的中左右或者左右中进行recursion就可以。"
   ]
  },
  {
   "cell_type": "code",
   "execution_count": 2,
   "id": "6f0cc33c",
   "metadata": {},
   "outputs": [
    {
     "name": "stdout",
     "output_type": "stream",
     "text": [
      "4, 7, 9, None, None, 6, None, None, 2, 3, None, None, 1, None, None\n"
     ]
    }
   ],
   "source": [
    "from typing import Optional\n",
    "class TreeNode:\n",
    "    def __init__(self, val=0, left=None, right=None):\n",
    "        self.val = val\n",
    "        self.left = left\n",
    "        self.right = right\n",
    "\n",
    "class Solution:\n",
    "    def invertTree(self, root: Optional[TreeNode]) -> Optional[TreeNode]:\n",
    "        if not root:\n",
    "            return None\n",
    "        \n",
    "        # Swap the left and right children\n",
    "        root.left, root.right = root.right, root.left\n",
    "        \n",
    "        # Recursively invert the left and right subtrees\n",
    "        self.invertTree(root.left)\n",
    "        self.invertTree(root.right)\n",
    "        \n",
    "        return root\n",
    "    \n",
    "# Example usage\n",
    "if __name__ == \"__main__\": \n",
    "    root = TreeNode(4)\n",
    "    root.left = TreeNode(2)\n",
    "    root.right = TreeNode(7)\n",
    "    root.left.left = TreeNode(1)\n",
    "    root.left.right = TreeNode(3)\n",
    "    root.right.left = TreeNode(6)\n",
    "    root.right.right = TreeNode(9)\n",
    "\n",
    "    solution = Solution()\n",
    "    inverted_root = solution.invertTree(root)\n",
    "\n",
    "    # Function to print the tree in level order\n",
    "    def print_tree(node):\n",
    "        if not node:\n",
    "            return \"None\"\n",
    "        return f\"{node.val}, {print_tree(node.left)}, {print_tree(node.right)}\"\n",
    "\n",
    "    print(print_tree(inverted_root))  # Should print the inverted tree structure"
   ]
  }
 ],
 "metadata": {
  "kernelspec": {
   "display_name": "Python 3",
   "language": "python",
   "name": "python3"
  },
  "language_info": {
   "codemirror_mode": {
    "name": "ipython",
    "version": 3
   },
   "file_extension": ".py",
   "mimetype": "text/x-python",
   "name": "python",
   "nbconvert_exporter": "python",
   "pygments_lexer": "ipython3",
   "version": "3.11.11"
  }
 },
 "nbformat": 4,
 "nbformat_minor": 5
}
