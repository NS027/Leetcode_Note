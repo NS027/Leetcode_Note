{
 "cells": [
  {
   "cell_type": "markdown",
   "id": "c5f4fbff",
   "metadata": {},
   "source": [
    "# Monotonic Stack\n",
    "---\n",
    "\n",
    "最适合求当前元素左边或者右边比它大或者小的元素。\n",
    "\n",
    "Monotonic - keep the element in the stack increasing or decreasing.\n",
    "\n",
    "从栈口到栈底：\n",
    "- 递增：求大的元素\n",
    "- 递减：求小的元素\n",
    "\n",
    "单调栈的作用是存放遍历过的元素。\n",
    "\n",
    "---"
   ]
  },
  {
   "cell_type": "markdown",
   "id": "2e8f7a40",
   "metadata": {},
   "source": [
    "#### 739. Daily Temperature\n",
    "\n",
    "stack 储存的是数组里面的下标。这样好储存遍历过的元素。\n",
    "\n",
    "T[i] 是我们遍历到的元素。\n",
    "\n",
    "栈顶元素：T[st.top]\n",
    "\n",
    "还有一个result数组来记录这个结果。\n",
    "\n",
    "例子里面T[73, 74, 75, 71, 69, 69, 72, 76, 73]:\n",
    "\n",
    "1. 第一个和第二个元素T[0] = 73, T[1] = 74, T[2] = 75当遍历到i = 1(第二个元素的时候) st.top = 0：\n",
    "\n",
    "`result[st.top] = result[0] = i - 0 = 1 - 0 = 1`\n",
    "\n",
    "2. 弹出T[0] = 73,然后把T[1] = 74加入stack. 这时候遍历下一个元素T[2] i = 2, st.top = 1:\n",
    "\n",
    "`result[st.top] = result[1] = i - 1 = 2 - 1 = 1`\n",
    "\n",
    "3. 如果后面继续遍历的元素小于/等于栈里面的元素，就直接吧下标加进栈里面,直到i = 6。st.top = 5,这时候栈里面有：\n",
    "\n",
    "`stack = [5，4，3，2]`\n",
    "\n",
    "`result[st.top] = result[5] = i - 5 = 6 - 5 = 1`\n",
    "\n",
    "4. 这时候弹出 T[5], 发现72还是大于T[4] = 69:\n",
    "\n",
    "`stack = [4，3，2]`\n",
    "\n",
    "`result[st.top] = result[4] = i - 4 = 6 - 4 = 2`\n",
    "\n",
    "5. 同理，72大于T[3] = 71:\n",
    "`stack = [3，2]`\n",
    "\n",
    "`result[st.top] = result[3] = i - 3 = 6 - 3 = 3`\n",
    "\n",
    "6. 72 没有 73 大， 于是放进stack里面， 得到：\n",
    "`stack = [6，2]`\n",
    "\n",
    "7. 同理，遍历到i = 7, 76 大于 72，此时i = 7:\n",
    "`stack = [6，2]`\n",
    "\n",
    "`result[st.top] = result[6] = i - 6 = 7 - 6 = 1`, 弹出6\n",
    "\n",
    "`result[st.top] = result[2] = i - 2 = 7 - 2 = 5`，弹出2\n",
    "\n",
    "8. 这时候T[8] = 73 < 76, 直接加入stack， 这时候stack里面有：\n",
    "\n",
    "`stack = [8，7]`\n",
    "\n",
    "这时候不会弹出来了，所以在一开始默认为0就可以了。\n",
    "\n",
    "---\n",
    "有个python的用法：\n",
    "\n",
    "```python\n",
    "for index, value in enumerate(temperatures):\n",
    "    print(index, value)\n",
    "\n",
    "temperatures = [73, 74, 75]\n",
    "```\n",
    "输出：\n",
    "```markdown\n",
    "0 73\n",
    "1 74\n",
    "2 75\n",
    "```"
   ]
  },
  {
   "cell_type": "code",
   "execution_count": 1,
   "id": "b87e85d1",
   "metadata": {},
   "outputs": [
    {
     "name": "stdout",
     "output_type": "stream",
     "text": [
      "[1, 1, 4, 2, 1, 1, 0, 0]\n"
     ]
    }
   ],
   "source": [
    "from typing import List\n",
    "\n",
    "class Solution:\n",
    "    def dailyTemperatures(self, temperatures: List[int]) -> List[int]:\n",
    "        n = len(temperatures)\n",
    "        res = [0] * n\n",
    "        stack = []  # 单调递减栈，存下标\n",
    "\n",
    "        for i, t in enumerate(temperatures):\n",
    "            while stack and t > temperatures[stack[-1]]:\n",
    "                j = stack.pop()\n",
    "                res[j] = i - j\n",
    "            stack.append(i)\n",
    "        return res\n",
    "\n",
    "# example usage\n",
    "sol = Solution()\n",
    "print(sol.dailyTemperatures([73, 74, 75, 71, 69, 72, 76, 73]))  # [1, 1, 4, 2, 1, 1, 0, 0]"
   ]
  }
 ],
 "metadata": {
  "kernelspec": {
   "display_name": "Python 3",
   "language": "python",
   "name": "python3"
  },
  "language_info": {
   "codemirror_mode": {
    "name": "ipython",
    "version": 3
   },
   "file_extension": ".py",
   "mimetype": "text/x-python",
   "name": "python",
   "nbconvert_exporter": "python",
   "pygments_lexer": "ipython3",
   "version": "3.11.11"
  }
 },
 "nbformat": 4,
 "nbformat_minor": 5
}
