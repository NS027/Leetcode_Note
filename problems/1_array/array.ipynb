{
 "cells": [
  {
   "cell_type": "markdown",
   "metadata": {},
   "source": [
    "# Array\n",
    "<hr>\n",
    "\n",
    "## Definition \n",
    "An array is a collection of data of the same type stored in a contiguous memory space.\n",
    "- It starts with **0**\n",
    "- The address in memory is **contiguous**\n",
    "Adding or removing elements will **shifting** others. The elements of an array cannot be deleted, only **overwritten**.\n",
    "\n",
    "    |     |  **0**  | **1**  | **2**  | **3**  |\n",
    "    |-----|------|------|------|------|\n",
    "    | **0** |  A   |  **B**  |  C   |  D   |\n",
    "    | **1** |  E   |  F   |  G   |  H   |\n",
    "    | **2** |  I   |  J   |  K   |  L   |\n",
    "\n",
    "`a[0][1] = B`\n",
    "\n",
    "In C++ every address takes 4 byte. However in Java, it will assign behind scene, which means you will not know the address.\n",
    "```java\n",
    "int[][] rating = new int[3][4];\n",
    "```\n",
    "|     | Point to |  **0**  | **1**  | **2**  | **3**  |\n",
    "|-----|---------|--------|--------|--------|--------|\n",
    "| **0** | ➝     |   ⬜   |   ⬜   |   ⬜   |   ⬜   |\n",
    "| **1** | ➝     |   ⬜   |   ⬜   |   ⬜   |   ⬜   |\n",
    "| **2** | ➝     |   ⬜   |   ⬜   |   ⬜   |   ⬜   |\n"
   ]
  }
 ],
 "metadata": {
  "kernelspec": {
   "display_name": "Python 3",
   "language": "python",
   "name": "python3"
  },
  "language_info": {
   "name": "python",
   "version": "3.11.11"
  }
 },
 "nbformat": 4,
 "nbformat_minor": 2
}
