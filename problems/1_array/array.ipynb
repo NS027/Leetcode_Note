{
 "cells": [
  {
   "cell_type": "markdown",
   "metadata": {},
   "source": [
    "# Array\n",
    "<hr>\n",
    "\n",
    "## Definition \n",
    "An array is a collection of data of the same type stored in a contiguous memory space.\n",
    "- It starts with **0**\n",
    "- The address in memory is **contiguous**\n",
    "Adding or removing elements will **shifting** others. The elements of an array cannot be deleted, only **overwritten**.\n",
    "\n",
    "    |     |  **0**  | **1**  | **2**  | **3**  |\n",
    "    |-----|------|------|------|------|\n",
    "    | **0** |  A   |  **B**  |  C   |  D   |\n",
    "    | **1** |  E   |  F   |  G   |  H   |\n",
    "    | **2** |  I   |  J   |  K   |  L   |\n",
    "\n",
    "`a[0][1] = B`\n",
    "\n",
    "In C++ every address takes 4 byte. However in Java, it will assign behind scene, which means you will not know the address.\n",
    "```java\n",
    "int[][] rating = new int[3][4];\n",
    "```\n",
    "|     | Point to |  **0**  | **1**  | **2**  | **3**  |\n",
    "|-----|---------|--------|--------|--------|--------|\n",
    "| **0** | ➝     |   ⬜   |   ⬜   |   ⬜   |   ⬜   |\n",
    "| **1** | ➝     |   ⬜   |   ⬜   |   ⬜   |   ⬜   |\n",
    "| **2** | ➝     |   ⬜   |   ⬜   |   ⬜   |   ⬜   |\n",
    "\n",
    "<hr>"
   ]
  },
  {
   "cell_type": "markdown",
   "metadata": {},
   "source": [
    "## Binary Search\n",
    "\n",
    "### Algorithm\n",
    "1. **Define the boundary**\n",
    "   - Set `left = 0` and `right = n -1`\n",
    "2. **Perform the search**\n",
    "   - Compute the middle **index**: `mid = (left + right) // 2`\n",
    "   - If `arr[mid] == target`, return `mid`\n",
    "   - If `target < arr[mid]`, then update `right = mid - 1`\n",
    "   - If `target > arr[mid]`, then update `left = mid + 1`\n",
    "3. **End condition**\n",
    "   - If `left > right`, then return `-1`"
   ]
  },
  {
   "cell_type": "markdown",
   "metadata": {},
   "source": [
    "### Python Implement"
   ]
  },
  {
   "cell_type": "code",
   "execution_count": 2,
   "metadata": {},
   "outputs": [
    {
     "name": "stdout",
     "output_type": "stream",
     "text": [
      "Index of 5 in [1, 2, 3, 4, 5, 6, 7, 8, 9] is 4\n",
      "Index of 10 in [1, 2, 3, 4, 5, 6, 7, 8, 9] is -1\n"
     ]
    }
   ],
   "source": [
    "def binary_search(arr, target):\n",
    "    left, right = 0, len(arr) - 1\n",
    "\n",
    "    while left <= right:\n",
    "        mid = (left + right) // 2\n",
    "        if arr[mid] == target:\n",
    "            return mid\n",
    "        elif arr[mid] < target:\n",
    "            left = mid + 1\n",
    "        else:\n",
    "            right = mid - 1\n",
    "    return -1\n",
    "\n",
    "# Test\n",
    "arr = [1, 2, 3, 4, 5, 6, 7, 8, 9]\n",
    "target1 = 5\n",
    "target2 = 10\n",
    "index1 = binary_search(arr, target1)\n",
    "index2 = binary_search(arr, target2)\n",
    "print(f\"Index of {target1} in {arr} is {index1}\")\n",
    "print(f\"Index of {target2} in {arr} is {index2}\")\n"
   ]
  },
  {
   "cell_type": "markdown",
   "metadata": {},
   "source": [
    "## Time Complexity Analysis\n",
    "- **Worst Case**: Each search reduces the range by half, requiring at most **log₂(n)** iterations.\n",
    "- **Time Complexity**: `O(log n)`\n",
    "- **Space Complexity**: `O(1)` (only a few extra variables are used)\n",
    "\n",
    "## Limitations of Binary Search\n",
    "1. The array must be **sorted** before performing binary search.\n",
    "2. Not suitable for **dynamic data** (insertions/deletions require re-sorting).\n",
    "3. Works only on **sequentially stored data structures** (such as arrays, not linked lists).\n",
    "\n",
    "\n",
    "## Variants of Binary Search\n",
    "- **Find the first/last occurrence** of a target element.\n",
    "- **Find the first element** greater than or smaller than the target.\n",
    "- **Search in an infinite increasing sequence**."
   ]
  },
  {
   "cell_type": "markdown",
   "metadata": {},
   "source": [
    "### LeetCode 704 Binary Search\n",
    "\n",
    "写二分法，区间的定义一般为两种，左闭右闭即`[left, right]`，或者左闭右开即`[left, right)`。\n",
    "\n",
    "#### 第一种写法\n",
    "区间的定义这就决定了二分法的代码应该如何写，因为定义target在[left, right]区间，所以有如下两点：\n",
    "- `while (left <= right)` 要使用 `<=` ，因为`left == right`是有意义的，所以使用 `<=`\n",
    "- `if (nums[middle] > target)` `right` 要赋值为 `middle - 1`，因为当前这个`nums[middle]`一定不是target，那么接下来要查找的左区间结束下标位置就是 `middle - 1`\n",
    "\n",
    "#### 第二种写法\n",
    "如果说定义 target 是在一个在左闭右开的区间里，也就是[left, right) ，那么二分法的边界处理方式则截然不同。\n",
    "\n",
    "有如下两点：\n",
    "- `while (left < right)`，这里使用 `<` ,因为`left == right`在区间`[left, right)`是没有意义的\n",
    "- `if (nums[middle] > target)` `right` 更新为 `middle`，因为当前`nums[middle]`不等于`target`，去左区间继续寻找，而寻找区间是左闭右开区间，所以`right`更新为`middle`，即：下一个查询区间不会去比较`nums[middle]`\n"
   ]
  },
  {
   "cell_type": "markdown",
   "metadata": {},
   "source": [
    "### 相关题目\n",
    "35.搜索插入位置\n",
    "\n",
    "34.在排序数组中查找元素的第一个和最后一个位置\n",
    "\n",
    "69.x 的平方根\n",
    "\n",
    "367.有效的完全平方数"
   ]
  },
  {
   "cell_type": "markdown",
   "metadata": {},
   "source": [
    "### LeetCode 27 Remove Element\n",
    "`erease`函数。$O(n)$,原始的size不会改变，只是移动后剩下的部分不返回了。\n",
    "\n",
    "**双指针(Double Pointer)**: fast/slow pointer. 快指针相当于检验员，如果没看到val，就吧检验的那个数据给到慢指针，如果看到了val，就跳过那个，继续下一个进行检验。\n",
    "1. 设置快慢指针从0开始起步\n",
    "2. 用`for`loop进行循环\n",
    "3. 当fast指向的数值不等于val的时候，让慢指针指向快指针当前读取的数值\n",
    "4. 慢指针向前移动一个\n",
    "5. 如此循环直到遍历整个array \n",
    "\n",
    "**双指针法（快慢指针法）在数组和链表的操作中是非常常见的，很多考察数组、链表、字符串等操作的面试题，都使用双指针法。**"
   ]
  },
  {
   "cell_type": "code",
   "execution_count": 7,
   "metadata": {},
   "outputs": [
    {
     "name": "stdout",
     "output_type": "stream",
     "text": [
      "The val after removing 2 is 5\n"
     ]
    }
   ],
   "source": [
    "# Remove the element from the array\n",
    "\n",
    "def remove_element(arr, target):\n",
    "    fast, slow = 0, 0\n",
    "    \n",
    "    for fast in range(len(arr)):\n",
    "        if arr[fast] != target:\n",
    "            arr[slow] = arr[fast]\n",
    "            slow += 1\n",
    "    return slow\n",
    "\n",
    "# Test\n",
    "arr = [1, 2, 3, 4, 2, 5, 2, 9]\n",
    "target = 2\n",
    "val = remove_element(arr, target1)\n",
    "print(f\"The val after removing\", target, \"is\", val)"
   ]
  },
  {
   "cell_type": "markdown",
   "metadata": {},
   "source": [
    "### LeetCode 977 Squares of Sorted Array\n",
    "\n",
    "原数组是升序排列的。那么这个平方的最大值只能从极左和极右向中间聚拢。所以要用到**双指针**来进行滑动\n",
    "1. 有一左一右两个指针来遍历原数组\n",
    "2. 有一个指针来从右到左遍历新的数组\n",
    "3. 计算`l` 和`r`的数值，看谁大就放到新数组的最右边\n",
    "4. 如此循环直到`l` =`r`\n"
   ]
  },
  {
   "cell_type": "code",
   "execution_count": 2,
   "metadata": {},
   "outputs": [
    {
     "ename": "TypeError",
     "evalue": "type 'float' is not subscriptable",
     "output_type": "error",
     "traceback": [
      "\u001b[0;31m---------------------------------------------------------------------------\u001b[0m",
      "\u001b[0;31mTypeError\u001b[0m                                 Traceback (most recent call last)",
      "Cell \u001b[0;32mIn[2], line 17\u001b[0m\n\u001b[1;32m     15\u001b[0m \u001b[38;5;66;03m#Test\u001b[39;00m\n\u001b[1;32m     16\u001b[0m nums \u001b[38;5;241m=\u001b[39m [\u001b[38;5;241m-\u001b[39m\u001b[38;5;241m4\u001b[39m, \u001b[38;5;241m-\u001b[39m\u001b[38;5;241m2\u001b[39m, \u001b[38;5;241m0\u001b[39m, \u001b[38;5;241m1\u001b[39m, \u001b[38;5;241m5\u001b[39m]\n\u001b[0;32m---> 17\u001b[0m arr \u001b[38;5;241m=\u001b[39m square(nums)\n\u001b[1;32m     18\u001b[0m \u001b[38;5;28mprint\u001b[39m(\u001b[38;5;124mf\u001b[39m\u001b[38;5;124m\"\u001b[39m\u001b[38;5;124mThe squares of sorted array of \u001b[39m\u001b[38;5;124m\"\u001b[39m, nums, \u001b[38;5;124m\"\u001b[39m\u001b[38;5;124mis: \u001b[39m\u001b[38;5;124m\"\u001b[39m, arr)\n",
      "Cell \u001b[0;32mIn[2], line 3\u001b[0m, in \u001b[0;36msquare\u001b[0;34m(nums)\u001b[0m\n\u001b[1;32m      1\u001b[0m \u001b[38;5;28;01mdef\u001b[39;00m \u001b[38;5;21msquare\u001b[39m(nums):\n\u001b[1;32m      2\u001b[0m     l, r, i \u001b[38;5;241m=\u001b[39m \u001b[38;5;241m0\u001b[39m, \u001b[38;5;28mlen\u001b[39m(nums)\u001b[38;5;241m-\u001b[39m\u001b[38;5;241m1\u001b[39m, \u001b[38;5;28mlen\u001b[39m(nums)\u001b[38;5;241m-\u001b[39m\u001b[38;5;241m1\u001b[39m\n\u001b[0;32m----> 3\u001b[0m     res \u001b[38;5;241m=\u001b[39m [\u001b[38;5;28mfloat\u001b[39m[\u001b[38;5;124m'\u001b[39m\u001b[38;5;124minf\u001b[39m\u001b[38;5;124m'\u001b[39m]] \u001b[38;5;241m*\u001b[39m \u001b[38;5;28mlen\u001b[39m(nums)\n\u001b[1;32m      5\u001b[0m     \u001b[38;5;28;01mwhile\u001b[39;00m l \u001b[38;5;241m<\u001b[39m\u001b[38;5;241m=\u001b[39m r:\n\u001b[1;32m      6\u001b[0m         \u001b[38;5;28;01mif\u001b[39;00m nums[l] \u001b[38;5;241m*\u001b[39m\u001b[38;5;241m*\u001b[39m \u001b[38;5;241m2\u001b[39m \u001b[38;5;241m<\u001b[39m nums[r] \u001b[38;5;241m*\u001b[39m\u001b[38;5;241m*\u001b[39m \u001b[38;5;241m2\u001b[39m:\n",
      "\u001b[0;31mTypeError\u001b[0m: type 'float' is not subscriptable"
     ]
    }
   ],
   "source": [
    "def square(nums):\n",
    "    l, r, i = 0, len(nums)-1, len(nums)-1\n",
    "    res = [float('inf')] * len(nums)\n",
    "\n",
    "    while l <= r:\n",
    "        if nums[l] ** 2 < nums[r] ** 2:\n",
    "            res[i] = nums[r] ** 2  # r is bigger then take r\n",
    "            r -= 1\n",
    "        else:\n",
    "            res[i] = nums[l] ** 2  # l is bigger then take l\n",
    "            l += 1\n",
    "        i -= 1  # move the pointer to the left\n",
    "    return res\n",
    "\n",
    "#Test\n",
    "nums = [-4, -2, 0, 1, 5]\n",
    "arr = square(nums)\n",
    "print(f\"The squares of sorted array of \", nums, \"is: \", arr)"
   ]
  }
 ],
 "metadata": {
  "kernelspec": {
   "display_name": "Python 3",
   "language": "python",
   "name": "python3"
  },
  "language_info": {
   "codemirror_mode": {
    "name": "ipython",
    "version": 3
   },
   "file_extension": ".py",
   "mimetype": "text/x-python",
   "name": "python",
   "nbconvert_exporter": "python",
   "pygments_lexer": "ipython3",
   "version": "3.11.11"
  }
 },
 "nbformat": 4,
 "nbformat_minor": 2
}
