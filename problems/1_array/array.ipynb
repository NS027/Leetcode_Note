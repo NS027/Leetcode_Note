{
 "cells": [
  {
   "cell_type": "markdown",
   "metadata": {},
   "source": [
    "# Array\n",
    "<hr>\n",
    "\n",
    "## Definition \n",
    "An array is a collection of data of the same type stored in a contiguous memory space.\n",
    "- It starts with **0**\n",
    "- The address in memory is **contiguous**\n",
    "Adding or removing elements will **shifting** others. The elements of an array cannot be deleted, only **overwritten**.\n",
    "\n",
    "    |     |  **0**  | **1**  | **2**  | **3**  |\n",
    "    |-----|------|------|------|------|\n",
    "    | **0** |  A   |  **B**  |  C   |  D   |\n",
    "    | **1** |  E   |  F   |  G   |  H   |\n",
    "    | **2** |  I   |  J   |  K   |  L   |\n",
    "\n",
    "`a[0][1] = B`\n",
    "\n",
    "In C++ every address takes 4 byte. However in Java, it will assign behind scene, which means you will not know the address.\n",
    "```java\n",
    "int[][] rating = new int[3][4];\n",
    "```\n",
    "|     | Point to |  **0**  | **1**  | **2**  | **3**  |\n",
    "|-----|---------|--------|--------|--------|--------|\n",
    "| **0** | ➝     |   ⬜   |   ⬜   |   ⬜   |   ⬜   |\n",
    "| **1** | ➝     |   ⬜   |   ⬜   |   ⬜   |   ⬜   |\n",
    "| **2** | ➝     |   ⬜   |   ⬜   |   ⬜   |   ⬜   |\n",
    "\n",
    "<hr>"
   ]
  },
  {
   "cell_type": "markdown",
   "metadata": {},
   "source": [
    "## Binary Search\n",
    "\n",
    "### Algorithm\n",
    "1. **Define the boundary**\n",
    "   - Set `left = 0` and `right = n -1`\n",
    "2. **Perform the search**\n",
    "   - Compute the middle **index**: `mid = (left + right) // 2`\n",
    "   - If `arr[mid] == target`, return `mid`\n",
    "   - If `target < arr[mid]`, then update `right = mid - 1`\n",
    "   - If `target > arr[mid]`, then update `left = mid + 1`\n",
    "3. **End condition**\n",
    "   - If `left > right`, then return `-1`"
   ]
  },
  {
   "cell_type": "markdown",
   "metadata": {},
   "source": [
    "### Python Implement"
   ]
  },
  {
   "cell_type": "code",
   "execution_count": 2,
   "metadata": {},
   "outputs": [
    {
     "name": "stdout",
     "output_type": "stream",
     "text": [
      "Index of 5 in [1, 2, 3, 4, 5, 6, 7, 8, 9] is 4\n",
      "Index of 10 in [1, 2, 3, 4, 5, 6, 7, 8, 9] is -1\n"
     ]
    }
   ],
   "source": [
    "def binary_search(arr, target):\n",
    "    left, right = 0, len(arr) - 1\n",
    "\n",
    "    while left <= right:\n",
    "        mid = (left + right) // 2\n",
    "        if arr[mid] == target:\n",
    "            return mid\n",
    "        elif arr[mid] < target:\n",
    "            left = mid + 1\n",
    "        else:\n",
    "            right = mid - 1\n",
    "    return -1\n",
    "\n",
    "# Test\n",
    "arr = [1, 2, 3, 4, 5, 6, 7, 8, 9]\n",
    "target1 = 5\n",
    "target2 = 10\n",
    "index1 = binary_search(arr, target1)\n",
    "index2 = binary_search(arr, target2)\n",
    "print(f\"Index of {target1} in {arr} is {index1}\")\n",
    "print(f\"Index of {target2} in {arr} is {index2}\")\n"
   ]
  },
  {
   "cell_type": "markdown",
   "metadata": {},
   "source": [
    "## Time Complexity Analysis\n",
    "- **Worst Case**: Each search reduces the range by half, requiring at most **log₂(n)** iterations.\n",
    "- **Time Complexity**: `O(log n)`\n",
    "- **Space Complexity**: `O(1)` (only a few extra variables are used)\n",
    "\n",
    "## Limitations of Binary Search\n",
    "1. The array must be **sorted** before performing binary search.\n",
    "2. Not suitable for **dynamic data** (insertions/deletions require re-sorting).\n",
    "3. Works only on **sequentially stored data structures** (such as arrays, not linked lists).\n",
    "\n",
    "\n",
    "## Variants of Binary Search\n",
    "- **Find the first/last occurrence** of a target element.\n",
    "- **Find the first element** greater than or smaller than the target.\n",
    "- **Search in an infinite increasing sequence**."
   ]
  },
  {
   "cell_type": "markdown",
   "metadata": {},
   "source": [
    "### LeetCode 704 Binary Search\n",
    "\n",
    "写二分法，区间的定义一般为两种，左闭右闭即`[left, right]`，或者左闭右开即`[left, right)`。\n",
    "\n",
    "#### 第一种写法\n",
    "区间的定义这就决定了二分法的代码应该如何写，因为定义target在[left, right]区间，所以有如下两点：\n",
    "- `while (left <= right)` 要使用 `<=` ，因为`left == right`是有意义的，所以使用 `<=`\n",
    "- `if (nums[middle] > target)` `right` 要赋值为 `middle - 1`，因为当前这个`nums[middle]`一定不是target，那么接下来要查找的左区间结束下标位置就是 `middle - 1`\n",
    "\n",
    "#### 第二种写法\n",
    "如果说定义 target 是在一个在左闭右开的区间里，也就是[left, right) ，那么二分法的边界处理方式则截然不同。\n",
    "\n",
    "有如下两点：\n",
    "- `while (left < right)`，这里使用 `<` ,因为`left == right`在区间`[left, right)`是没有意义的\n",
    "- `if (nums[middle] > target)` `right` 更新为 `middle`，因为当前`nums[middle]`不等于`target`，去左区间继续寻找，而寻找区间是左闭右开区间，所以`right`更新为`middle`，即：下一个查询区间不会去比较`nums[middle]`\n"
   ]
  },
  {
   "cell_type": "markdown",
   "metadata": {},
   "source": [
    "### 相关题目\n",
    "35.搜索插入位置\n",
    "\n",
    "34.在排序数组中查找元素的第一个和最后一个位置\n",
    "\n",
    "69.x 的平方根\n",
    "\n",
    "367.有效的完全平方数"
   ]
  }
 ],
 "metadata": {
  "kernelspec": {
   "display_name": "Python 3",
   "language": "python",
   "name": "python3"
  },
  "language_info": {
   "codemirror_mode": {
    "name": "ipython",
    "version": 3
   },
   "file_extension": ".py",
   "mimetype": "text/x-python",
   "name": "python",
   "nbconvert_exporter": "python",
   "pygments_lexer": "ipython3",
   "version": "3.11.11"
  }
 },
 "nbformat": 4,
 "nbformat_minor": 2
}
