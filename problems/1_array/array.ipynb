{
 "cells": [
  {
   "cell_type": "markdown",
   "metadata": {},
   "source": [
    "# Array\n",
    "<hr>\n",
    "\n",
    "## Definition \n",
    "An array is a collection of data of the same type stored in a contiguous memory space.\n",
    "- It starts with **0**\n",
    "- The address in memory is **contiguous**\n",
    "Adding or removing elements will **shifting** others. The elements of an array cannot be deleted, only **overwritten**.\n",
    "\n",
    "    |     |  **0**  | **1**  | **2**  | **3**  |\n",
    "    |-----|------|------|------|------|\n",
    "    | **0** |  A   |  **B**  |  C   |  D   |\n",
    "    | **1** |  E   |  F   |  G   |  H   |\n",
    "    | **2** |  I   |  J   |  K   |  L   |\n",
    "\n",
    "`a[0][1] = B`\n",
    "\n",
    "In C++ every address takes 4 byte. However in Java, it will assign behind scene, which means you will not know the address.\n",
    "```java\n",
    "int[][] rating = new int[3][4];\n",
    "```\n",
    "|     | Point to |  **0**  | **1**  | **2**  | **3**  |\n",
    "|-----|---------|--------|--------|--------|--------|\n",
    "| **0** | ➝     |   ⬜   |   ⬜   |   ⬜   |   ⬜   |\n",
    "| **1** | ➝     |   ⬜   |   ⬜   |   ⬜   |   ⬜   |\n",
    "| **2** | ➝     |   ⬜   |   ⬜   |   ⬜   |   ⬜   |\n",
    "\n",
    "<hr>"
   ]
  },
  {
   "cell_type": "markdown",
   "metadata": {},
   "source": [
    "## Binary Search\n",
    "\n",
    "### Algorithm\n",
    "1. **Define the boundary**\n",
    "   - Set `left = 0` and `right = n -1`\n",
    "2. **Perform the search**\n",
    "   - Compute the middle **index**: `mid = (left + right) // 2`\n",
    "   - If `arr[mid] == target`, return `mid`\n",
    "   - If `target < arr[mid]`, then update `right = mid - 1`\n",
    "   - If `target > arr[mid]`, then update `left = mid + 1`\n",
    "3. **End condition**\n",
    "   - If `left > right`, then return `-1`"
   ]
  },
  {
   "cell_type": "markdown",
   "metadata": {},
   "source": [
    "### Python Implement"
   ]
  },
  {
   "cell_type": "code",
   "execution_count": 2,
   "metadata": {},
   "outputs": [
    {
     "name": "stdout",
     "output_type": "stream",
     "text": [
      "Index of 5 in [1, 2, 3, 4, 5, 6, 7, 8, 9] is 4\n",
      "Index of 10 in [1, 2, 3, 4, 5, 6, 7, 8, 9] is -1\n"
     ]
    }
   ],
   "source": [
    "def binary_search(arr, target):\n",
    "    left, right = 0, len(arr) - 1\n",
    "\n",
    "    while left <= right:\n",
    "        mid = (left + right) // 2\n",
    "        if arr[mid] == target:\n",
    "            return mid\n",
    "        elif arr[mid] < target:\n",
    "            left = mid + 1\n",
    "        else:\n",
    "            right = mid - 1\n",
    "    return -1\n",
    "\n",
    "# Test\n",
    "arr = [1, 2, 3, 4, 5, 6, 7, 8, 9]\n",
    "target1 = 5\n",
    "target2 = 10\n",
    "index1 = binary_search(arr, target1)\n",
    "index2 = binary_search(arr, target2)\n",
    "print(f\"Index of {target1} in {arr} is {index1}\")\n",
    "print(f\"Index of {target2} in {arr} is {index2}\")\n"
   ]
  },
  {
   "cell_type": "markdown",
   "metadata": {},
   "source": [
    "## Time Complexity Analysis\n",
    "- **Worst Case**: Each search reduces the range by half, requiring at most **log₂(n)** iterations.\n",
    "- **Time Complexity**: `O(log n)`\n",
    "- **Space Complexity**: `O(1)` (only a few extra variables are used)\n",
    "\n",
    "## Limitations of Binary Search\n",
    "1. The array must be **sorted** before performing binary search.\n",
    "2. Not suitable for **dynamic data** (insertions/deletions require re-sorting).\n",
    "3. Works only on **sequentially stored data structures** (such as arrays, not linked lists).\n",
    "\n",
    "\n",
    "## Variants of Binary Search\n",
    "- **Find the first/last occurrence** of a target element.\n",
    "- **Find the first element** greater than or smaller than the target.\n",
    "- **Search in an infinite increasing sequence**."
   ]
  },
  {
   "cell_type": "markdown",
   "metadata": {},
   "source": [
    "### LeetCode 704 Binary Search\n",
    "\n",
    "写二分法，区间的定义一般为两种，左闭右闭即`[left, right]`，或者左闭右开即`[left, right)`。\n",
    "\n",
    "#### 第一种写法\n",
    "区间的定义这就决定了二分法的代码应该如何写，因为定义target在[left, right]区间，所以有如下两点：\n",
    "- `while (left <= right)` 要使用 `<=` ，因为`left == right`是有意义的，所以使用 `<=`\n",
    "- `if (nums[middle] > target)` `right` 要赋值为 `middle - 1`，因为当前这个`nums[middle]`一定不是target，那么接下来要查找的左区间结束下标位置就是 `middle - 1`\n",
    "\n",
    "#### 第二种写法\n",
    "如果说定义 target 是在一个在左闭右开的区间里，也就是[left, right) ，那么二分法的边界处理方式则截然不同。\n",
    "\n",
    "有如下两点：\n",
    "- `while (left < right)`，这里使用 `<` ,因为`left == right`在区间`[left, right)`是没有意义的\n",
    "- `if (nums[middle] > target)` `right` 更新为 `middle`，因为当前`nums[middle]`不等于`target`，去左区间继续寻找，而寻找区间是左闭右开区间，所以`right`更新为`middle`，即：下一个查询区间不会去比较`nums[middle]`\n"
   ]
  },
  {
   "cell_type": "markdown",
   "metadata": {},
   "source": [
    "### 相关题目\n",
    "35.搜索插入位置\n",
    "\n",
    "34.在排序数组中查找元素的第一个和最后一个位置\n",
    "\n",
    "69.x 的平方根\n",
    "\n",
    "367.有效的完全平方数"
   ]
  },
  {
   "cell_type": "markdown",
   "metadata": {},
   "source": [
    "### LeetCode 27 Remove Element\n",
    "`erease`函数。$O(n)$,原始的size不会改变，只是移动后剩下的部分不返回了。\n",
    "\n",
    "**双指针(Double Pointer)**: fast/slow pointer. 快指针相当于检验员，如果没看到val，就吧检验的那个数据给到慢指针，如果看到了val，就跳过那个，继续下一个进行检验。\n",
    "1. 设置快慢指针从0开始起步\n",
    "2. 用`for`loop进行循环\n",
    "3. 当fast指向的数值不等于val的时候，让慢指针指向快指针当前读取的数值\n",
    "4. 慢指针向前移动一个\n",
    "5. 如此循环直到遍历整个array \n",
    "\n",
    "**双指针法（快慢指针法）在数组和链表的操作中是非常常见的，很多考察数组、链表、字符串等操作的面试题，都使用双指针法。**"
   ]
  },
  {
   "cell_type": "code",
   "execution_count": 7,
   "metadata": {},
   "outputs": [
    {
     "name": "stdout",
     "output_type": "stream",
     "text": [
      "The val after removing 2 is 5\n"
     ]
    }
   ],
   "source": [
    "# Remove the element from the array\n",
    "\n",
    "def remove_element(arr, target):\n",
    "    fast, slow = 0, 0\n",
    "    \n",
    "    for fast in range(len(arr)):\n",
    "        if arr[fast] != target:\n",
    "            arr[slow] = arr[fast]\n",
    "            slow += 1\n",
    "    return slow\n",
    "\n",
    "# Test\n",
    "arr = [1, 2, 3, 4, 2, 5, 2, 9]\n",
    "target = 2\n",
    "val = remove_element(arr, target1)\n",
    "print(f\"The val after removing\", target, \"is\", val)"
   ]
  },
  {
   "cell_type": "markdown",
   "metadata": {},
   "source": [
    "### LeetCode 977 Squares of Sorted Array\n",
    "\n",
    "原数组是升序排列的。那么这个平方的最大值只能从极左和极右向中间聚拢。所以要用到**双指针**来进行滑动\n",
    "1. 有一左一右两个指针来遍历原数组\n",
    "2. 有一个指针来从右到左遍历新的数组\n",
    "3. 计算`l` 和`r`的数值，看谁大就放到新数组的最右边\n",
    "4. 如此循环直到`l` =`r`\n"
   ]
  },
  {
   "cell_type": "code",
   "execution_count": 3,
   "metadata": {},
   "outputs": [
    {
     "name": "stdout",
     "output_type": "stream",
     "text": [
      "The squares of sorted array of  [-4, -2, 0, 1, 5] is:  [0, 1, 4, 16, 25]\n"
     ]
    }
   ],
   "source": [
    "def square(nums):\n",
    "    l, r, i = 0, len(nums)-1, len(nums)-1\n",
    "    res = [float('inf')] * len(nums)\n",
    "\n",
    "    while l <= r:\n",
    "        if nums[l] ** 2 < nums[r] ** 2:\n",
    "            res[i] = nums[r] ** 2  # r is bigger then take r\n",
    "            r -= 1\n",
    "        else:\n",
    "            res[i] = nums[l] ** 2  # l is bigger then take l\n",
    "            l += 1\n",
    "        i -= 1  # move the pointer to the left\n",
    "    return res\n",
    "\n",
    "#Test\n",
    "nums = [-4, -2, 0, 1, 5]\n",
    "arr = square(nums)\n",
    "print(f\"The squares of sorted array of \", nums, \"is: \", arr)"
   ]
  },
  {
   "cell_type": "markdown",
   "metadata": {},
   "source": [
    "### LeetCode 209 Minimum Size Subarray Sum\n",
    "**滑动窗口 (Sliding Window)**\n",
    "两个指针来定义一个窗口。使用`for`循环来实现。其中`j`指向了**终止**位置。起始位置移动是当区间和满足条件后再开始，移动一个看是否满足条件。\n",
    "1. 初始定义`i`在起始位置， `j`在起始位。 `result`为Max\n",
    "2. 使用 `for`循环，`j` 开始向后移动, 同时用`sum`一直收集这个区间里面的和。\n",
    "3. 使用`for`循环，这时候的`result`是原result和此时`j`、`i`距离的最小值\n",
    "4. 当`sum`满足了target的时候，移动初始位置的`i`，直到这个`i`移动到区间和不满足target\n",
    "5. 返回的时候要么返回`result`要么返回0\n"
   ]
  },
  {
   "cell_type": "code",
   "execution_count": 6,
   "metadata": {},
   "outputs": [
    {
     "name": "stdout",
     "output_type": "stream",
     "text": [
      "Minimum size of subarray of [2, 3, 1, 2, 4, 3] with sum 7 is 2\n",
      "Minimum size of subarray of [1, 4, 4] with sum 4 is 1\n",
      "Minimum size of subarray of [1, 1, 1, 1, 1, 1, 1, 1] with sum 11 is 0\n"
     ]
    }
   ],
   "source": [
    "def min_size_sum(nums, target):\n",
    "    i, j, result = 0, 0, float('inf')\n",
    "    current_sum = 0\n",
    "    l = len(nums)\n",
    "\n",
    "    for j in range(l):\n",
    "        current_sum += nums[j]\n",
    "\n",
    "        while current_sum >= target:\n",
    "            result = min(result, j - i + 1)\n",
    "            current_sum -= nums[i]\n",
    "            i += 1\n",
    "    return result if result != float('inf') else 0\n",
    "\n",
    "\n",
    "# Test case\n",
    "target1 = 7\n",
    "nums1 = [2, 3, 1, 2, 4, 3]\n",
    "target2 = 4\n",
    "nums2 = [1, 4, 4]\n",
    "target3 = 11\n",
    "nums3 = [1, 1, 1, 1, 1, 1, 1, 1]\n",
    "result1 = min_size_sum(nums1, target1)\n",
    "result2 = min_size_sum(nums2, target2)\n",
    "result3 = min_size_sum(nums3, target3)\n",
    "print(f\"Minimum size of subarray of {nums1} with sum {target1} is {result1}\")\n",
    "print(f\"Minimum size of subarray of {nums2} with sum {target2} is {result2}\")\n",
    "print(f\"Minimum size of subarray of {nums3} with sum {target3} is {result3}\")\n",
    "        "
   ]
  },
  {
   "cell_type": "markdown",
   "metadata": {},
   "source": [
    "### 59 Spiral Matrix II\n",
    "**循环不变量**的原则。对每条边的处理规则是一样的。可以用左闭右开的区间 [$\\hspace{20pt}$ $)$。处理第一个节点，最后一个节点留给下一个边。模拟顺时针画矩阵的过程:\n",
    "- 填充上行从左到右\n",
    "- 填充右列从上到下\n",
    "- 填充下行从右到左\n",
    "- 填充左列从下到上\n",
    "由外向内一圈一圈这么画下去。\n",
    "\n",
    "1. 定义一个matrix， `[startx][starty]`\n",
    "2. 用`for`loop 进行遍历。`offeset`作为最外层的遍历量，可以看出遍历的次数是$n - offset$。其中要有一个`counter`来模拟一个一个增加的数。\n",
    "3. 开始遍历，用四个`for`loop，最后每次遍历一圈之后，`[startx][starty]`都要加一\n",
    "4. 整个循环的次数应该是 $n // 2$\n",
    "5. 如果遇到记住，则在最后把`[mid][mid]`填到中心数中去。"
   ]
  },
  {
   "cell_type": "code",
   "execution_count": 8,
   "metadata": {},
   "outputs": [
    {
     "name": "stdout",
     "output_type": "stream",
     "text": [
      "Spiral matrix of 3 is [[1, 2, 3], [8, 9, 4], [7, 6, 5]]\n"
     ]
    }
   ],
   "source": [
    "def generateMatrix(n: int):\n",
    "        nums = [[0] * n for _ in range(n)]\n",
    "        startx, starty = 0, 0  # start point\n",
    "        loop, mid = n // 2, n // 2  # iteration times\n",
    "        count = 1  # start count number\n",
    "\n",
    "        for offset in range (1, loop + 1):  # offset starts from 1 end at loop times\n",
    "            for i in range(starty, n - offset):  # from left to right\n",
    "                nums[startx][i] = count\n",
    "                count += 1\n",
    "            for i in range (startx, n - offset):  # from up to bottom\n",
    "                nums[i][n - offset] = count\n",
    "                count += 1\n",
    "            for i in range (n - offset, starty, -1):  # from right to left\n",
    "                nums[n - offset][i] = count\n",
    "                count += 1\n",
    "            for i in range (n - offset, startx, -1):  # from bottom to up\n",
    "                nums[i][starty] = count\n",
    "                count += 1\n",
    "            startx += 1\n",
    "            starty += 1\n",
    "        \n",
    "        if n % 2 == 1:\n",
    "            nums[mid][mid] = count   # when n is odd number, fill the center\n",
    "\n",
    "        return nums\n",
    "\n",
    "# Test\n",
    "n = 3  \n",
    "result = generateMatrix(n)\n",
    "print(f\"Spiral matrix of {n} is {result}\")"
   ]
  }
 ],
 "metadata": {
  "kernelspec": {
   "display_name": "Python 3",
   "language": "python",
   "name": "python3"
  },
  "language_info": {
   "codemirror_mode": {
    "name": "ipython",
    "version": 3
   },
   "file_extension": ".py",
   "mimetype": "text/x-python",
   "name": "python",
   "nbconvert_exporter": "python",
   "pygments_lexer": "ipython3",
   "version": "3.11.11"
  }
 },
 "nbformat": 4,
 "nbformat_minor": 2
}
